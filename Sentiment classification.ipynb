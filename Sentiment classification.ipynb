{
 "cells": [
  {
   "cell_type": "markdown",
   "metadata": {
    "colab_type": "text",
    "id": "aogkg1nU5FoI"
   },
   "source": [
    "# Sentiment classification - close to the state of the art\n",
    "The task of classifying sentiments of texts (for example movie or product reviews) has high practical significance in online marketing as well as financial prediction. This is a non-trivial task, since the concept of sentiment is not easily captured.\n",
    "\n",
    "For this project we are using the larger IMDB sentiment benchmark dataset from Stanford, an achieve close to state of the art results.\n",
    "\n",
    "The task is to try out multiple models in ascending complexity, namely:\n",
    "\n",
    "1.TFIDF + classical statistical model (eg. RandomForest)\n",
    "\n",
    "2.LSTM classification model\n",
    "\n",
    "3.LSTM model, where the embeddings are initialized with pre-trained GloVe vectors\n",
    "\n",
    "4.fastText model\n",
    "\n",
    "5.BERT based model (we are advised to use a pre-trained one and finetune, since the resource consumption is considerable!)"
   ]
  },
  {
   "cell_type": "markdown",
   "metadata": {
    "colab_type": "text",
    "id": "8bgDOY0EfdQf"
   },
   "source": [
    "## Import needed libraries"
   ]
  },
  {
   "cell_type": "code",
   "execution_count": 1,
   "metadata": {
    "colab": {
     "base_uri": "https://localhost:8080/",
     "height": 1000
    },
    "colab_type": "code",
    "id": "pYo467R1J6bz",
    "outputId": "fdc15ccb-38c4-4e80-b91d-485d1e8fe0b6",
    "scrolled": true
   },
   "outputs": [
    {
     "name": "stdout",
     "output_type": "stream",
     "text": [
      "Collecting ktrain\n",
      "\u001b[?25l  Downloading https://files.pythonhosted.org/packages/17/40/bb9a34bfd0e8e6f6f763fb3f97b61734b1a868fce66ef7e8ab65a71120de/ktrain-0.7.2.tar.gz (88kB)\n",
      "\r",
      "\u001b[K     |███▊                            | 10kB 26.8MB/s eta 0:00:01\r",
      "\u001b[K     |███████▍                        | 20kB 2.9MB/s eta 0:00:01\r",
      "\u001b[K     |███████████                     | 30kB 4.2MB/s eta 0:00:01\r",
      "\u001b[K     |██████████████▊                 | 40kB 2.8MB/s eta 0:00:01\r",
      "\u001b[K     |██████████████████▍             | 51kB 3.5MB/s eta 0:00:01\r",
      "\u001b[K     |██████████████████████▏         | 61kB 4.2MB/s eta 0:00:01\r",
      "\u001b[K     |█████████████████████████▉      | 71kB 4.8MB/s eta 0:00:01\r",
      "\u001b[K     |█████████████████████████████▌  | 81kB 5.4MB/s eta 0:00:01\r",
      "\u001b[K     |████████████████████████████████| 92kB 4.3MB/s \n",
      "\u001b[?25hRequirement already satisfied: scikit-learn==0.21.3 in /usr/local/lib/python3.6/dist-packages (from ktrain) (0.21.3)\n",
      "Requirement already satisfied: matplotlib>=3.0.0 in /usr/local/lib/python3.6/dist-packages (from ktrain) (3.1.2)\n",
      "Requirement already satisfied: pandas>=0.24.2 in /usr/local/lib/python3.6/dist-packages (from ktrain) (0.25.3)\n",
      "Requirement already satisfied: fastprogress>=0.1.21 in /usr/local/lib/python3.6/dist-packages (from ktrain) (0.1.22)\n",
      "Collecting keras_bert\n",
      "  Downloading https://files.pythonhosted.org/packages/df/fe/bf46de1ef9d1395cd735d8df5402f5d837ef82cfd348a252ad8f32feeaef/keras-bert-0.80.0.tar.gz\n",
      "Requirement already satisfied: requests in /usr/local/lib/python3.6/dist-packages (from ktrain) (2.21.0)\n",
      "Requirement already satisfied: joblib in /usr/local/lib/python3.6/dist-packages (from ktrain) (0.14.1)\n",
      "Collecting langdetect\n",
      "\u001b[?25l  Downloading https://files.pythonhosted.org/packages/59/59/4bc44158a767a6d66de18c4136c8aa90491d56cc951c10b74dd1e13213c9/langdetect-1.0.7.zip (998kB)\n",
      "\u001b[K     |████████████████████████████████| 1.0MB 14.0MB/s \n",
      "\u001b[?25hRequirement already satisfied: jieba in /usr/local/lib/python3.6/dist-packages (from ktrain) (0.39)\n",
      "Collecting cchardet\n",
      "\u001b[?25l  Downloading https://files.pythonhosted.org/packages/fa/4e/847feebfc3e71c773b23ee06c74687b8c50a5a6d6aaff452a0a4f4eb9a32/cchardet-2.1.5-cp36-cp36m-manylinux1_x86_64.whl (241kB)\n",
      "\u001b[K     |████████████████████████████████| 245kB 70.7MB/s \n",
      "\u001b[?25hCollecting networkx==2.3\n",
      "\u001b[?25l  Downloading https://files.pythonhosted.org/packages/85/08/f20aef11d4c343b557e5de6b9548761811eb16e438cee3d32b1c66c8566b/networkx-2.3.zip (1.7MB)\n",
      "\u001b[K     |████████████████████████████████| 1.8MB 65.3MB/s \n",
      "\u001b[?25hRequirement already satisfied: bokeh in /usr/local/lib/python3.6/dist-packages (from ktrain) (1.0.4)\n",
      "Collecting seqeval\n",
      "  Downloading https://files.pythonhosted.org/packages/34/91/068aca8d60ce56dd9ba4506850e876aba5e66a6f2f29aa223224b50df0de/seqeval-0.0.12.tar.gz\n",
      "Requirement already satisfied: packaging in /usr/local/lib/python3.6/dist-packages (from ktrain) (19.2)\n",
      "Requirement already satisfied: scipy>=0.17.0 in /usr/local/lib/python3.6/dist-packages (from scikit-learn==0.21.3->ktrain) (1.3.3)\n",
      "Requirement already satisfied: numpy>=1.11.0 in /usr/local/lib/python3.6/dist-packages (from scikit-learn==0.21.3->ktrain) (1.17.4)\n",
      "Requirement already satisfied: cycler>=0.10 in /usr/local/lib/python3.6/dist-packages (from matplotlib>=3.0.0->ktrain) (0.10.0)\n",
      "Requirement already satisfied: kiwisolver>=1.0.1 in /usr/local/lib/python3.6/dist-packages (from matplotlib>=3.0.0->ktrain) (1.1.0)\n",
      "Requirement already satisfied: pyparsing!=2.0.4,!=2.1.2,!=2.1.6,>=2.0.1 in /usr/local/lib/python3.6/dist-packages (from matplotlib>=3.0.0->ktrain) (2.4.5)\n",
      "Requirement already satisfied: python-dateutil>=2.1 in /usr/local/lib/python3.6/dist-packages (from matplotlib>=3.0.0->ktrain) (2.6.1)\n",
      "Requirement already satisfied: pytz>=2017.2 in /usr/local/lib/python3.6/dist-packages (from pandas>=0.24.2->ktrain) (2018.9)\n",
      "Requirement already satisfied: Keras in /usr/local/lib/python3.6/dist-packages (from keras_bert->ktrain) (2.2.5)\n",
      "Collecting keras-transformer>=0.30.0\n",
      "  Downloading https://files.pythonhosted.org/packages/0a/57/496b1eab888171b0801a0a44d3245a7874b8d1cc04c1fbfdbb5e3327fc7a/keras-transformer-0.31.0.tar.gz\n",
      "Requirement already satisfied: certifi>=2017.4.17 in /usr/local/lib/python3.6/dist-packages (from requests->ktrain) (2019.11.28)\n",
      "Requirement already satisfied: idna<2.9,>=2.5 in /usr/local/lib/python3.6/dist-packages (from requests->ktrain) (2.8)\n",
      "Requirement already satisfied: chardet<3.1.0,>=3.0.2 in /usr/local/lib/python3.6/dist-packages (from requests->ktrain) (3.0.4)\n",
      "Requirement already satisfied: urllib3<1.25,>=1.21.1 in /usr/local/lib/python3.6/dist-packages (from requests->ktrain) (1.24.3)\n",
      "Requirement already satisfied: six in /usr/local/lib/python3.6/dist-packages (from langdetect->ktrain) (1.12.0)\n",
      "Requirement already satisfied: decorator>=4.3.0 in /usr/local/lib/python3.6/dist-packages (from networkx==2.3->ktrain) (4.4.1)\n",
      "Requirement already satisfied: tornado>=4.3 in /usr/local/lib/python3.6/dist-packages (from bokeh->ktrain) (4.5.3)\n",
      "Requirement already satisfied: Jinja2>=2.7 in /usr/local/lib/python3.6/dist-packages (from bokeh->ktrain) (2.10.3)\n",
      "Requirement already satisfied: pillow>=4.0 in /usr/local/lib/python3.6/dist-packages (from bokeh->ktrain) (4.3.0)\n",
      "Requirement already satisfied: PyYAML>=3.10 in /usr/local/lib/python3.6/dist-packages (from bokeh->ktrain) (3.13)\n",
      "Requirement already satisfied: setuptools in /usr/local/lib/python3.6/dist-packages (from kiwisolver>=1.0.1->matplotlib>=3.0.0->ktrain) (42.0.2)\n",
      "Requirement already satisfied: keras-preprocessing>=1.1.0 in /usr/local/lib/python3.6/dist-packages (from Keras->keras_bert->ktrain) (1.1.0)\n",
      "Requirement already satisfied: keras-applications>=1.0.8 in /usr/local/lib/python3.6/dist-packages (from Keras->keras_bert->ktrain) (1.0.8)\n",
      "Requirement already satisfied: h5py in /usr/local/lib/python3.6/dist-packages (from Keras->keras_bert->ktrain) (2.8.0)\n",
      "Collecting keras-pos-embd>=0.10.0\n",
      "  Downloading https://files.pythonhosted.org/packages/09/70/b63ed8fc660da2bb6ae29b9895401c628da5740c048c190b5d7107cadd02/keras-pos-embd-0.11.0.tar.gz\n",
      "Collecting keras-multi-head>=0.22.0\n",
      "  Downloading https://files.pythonhosted.org/packages/40/3e/d0a64bb2ac5217928effe4507c26bbd19b86145d16a1948bc2d4f4c6338a/keras-multi-head-0.22.0.tar.gz\n",
      "Collecting keras-layer-normalization>=0.12.0\n",
      "  Downloading https://files.pythonhosted.org/packages/a4/0e/d1078df0494bac9ce1a67954e5380b6e7569668f0f3b50a9531c62c1fc4a/keras-layer-normalization-0.14.0.tar.gz\n",
      "Collecting keras-position-wise-feed-forward>=0.5.0\n",
      "  Downloading https://files.pythonhosted.org/packages/e3/59/f0faa1037c033059e7e9e7758e6c23b4d1c0772cd48de14c4b6fd4033ad5/keras-position-wise-feed-forward-0.6.0.tar.gz\n",
      "Collecting keras-embed-sim>=0.7.0\n",
      "  Downloading https://files.pythonhosted.org/packages/bc/20/735fd53f6896e2af63af47e212601c1b8a7a80d00b6126c388c9d1233892/keras-embed-sim-0.7.0.tar.gz\n",
      "Requirement already satisfied: MarkupSafe>=0.23 in /usr/local/lib/python3.6/dist-packages (from Jinja2>=2.7->bokeh->ktrain) (1.1.1)\n",
      "Requirement already satisfied: olefile in /usr/local/lib/python3.6/dist-packages (from pillow>=4.0->bokeh->ktrain) (0.46)\n",
      "Collecting keras-self-attention==0.41.0\n",
      "  Downloading https://files.pythonhosted.org/packages/1b/1c/01599219bef7266fa43b3316e4f55bcb487734d3bafdc60ffd564f3cfe29/keras-self-attention-0.41.0.tar.gz\n",
      "Building wheels for collected packages: ktrain, keras-bert, langdetect, networkx, seqeval, keras-transformer, keras-pos-embd, keras-multi-head, keras-layer-normalization, keras-position-wise-feed-forward, keras-embed-sim, keras-self-attention\n",
      "  Building wheel for ktrain (setup.py) ... \u001b[?25l\u001b[?25hdone\n",
      "  Created wheel for ktrain: filename=ktrain-0.7.2-cp36-none-any.whl size=113492 sha256=337f6d071e09c4cc89ffdce7d6ede7ac2844bc9af34246904c6696efda75e4c4\n",
      "  Stored in directory: /root/.cache/pip/wheels/ed/db/bd/fb2cb12563e8a7e5ef04f99cc9014bc0e509f1bb3834e6ee5d\n",
      "  Building wheel for keras-bert (setup.py) ... \u001b[?25l\u001b[?25hdone\n",
      "  Created wheel for keras-bert: filename=keras_bert-0.80.0-cp36-none-any.whl size=37923 sha256=bde45a27b560da375defc897fd23a38984e09c1817e6148c07d638bfe36b3f6e\n",
      "  Stored in directory: /root/.cache/pip/wheels/63/dc/87/3260cb91f3aa32c0f85c5375429a30c8fd988bbb48f5ee21b0\n",
      "  Building wheel for langdetect (setup.py) ... \u001b[?25l\u001b[?25hdone\n",
      "  Created wheel for langdetect: filename=langdetect-1.0.7-cp36-none-any.whl size=993460 sha256=5a09005318f413d90a668fbd7b1101ec87ab826a7f61534ccf8dce2e4e484651\n",
      "  Stored in directory: /root/.cache/pip/wheels/ec/0c/a9/1647275e7ef5014e7b83ff30105180e332867d65e7617ddafe\n",
      "  Building wheel for networkx (setup.py) ... \u001b[?25l\u001b[?25hdone\n",
      "  Created wheel for networkx: filename=networkx-2.3-py2.py3-none-any.whl size=1556408 sha256=087a7e8314740ce06dfabcb5a179084ebda363999aba6bf9affbca795fad0490\n",
      "  Stored in directory: /root/.cache/pip/wheels/de/63/64/3699be2a9d0ccdb37c7f16329acf3863fd76eda58c39c737af\n",
      "  Building wheel for seqeval (setup.py) ... \u001b[?25l\u001b[?25hdone\n",
      "  Created wheel for seqeval: filename=seqeval-0.0.12-cp36-none-any.whl size=7424 sha256=d7b2fed71cdeb8a8edfcf2aa2b6d1ee87737e9e7cbfdea934d493dcc3faeea20\n",
      "  Stored in directory: /root/.cache/pip/wheels/4f/32/0a/df3b340a82583566975377d65e724895b3fad101a3fb729f68\n",
      "  Building wheel for keras-transformer (setup.py) ... \u001b[?25l\u001b[?25hdone\n",
      "  Created wheel for keras-transformer: filename=keras_transformer-0.31.0-cp36-none-any.whl size=13385 sha256=8045518d15507fa1a1a94fe45a6a2506b69fdb2a1cff11c0ee79bbc43d201f16\n",
      "  Stored in directory: /root/.cache/pip/wheels/a3/c5/9a/5a5130240be614a7a6fa786765d7692ae97f82601e2161bb56\n",
      "  Building wheel for keras-pos-embd (setup.py) ... \u001b[?25l\u001b[?25hdone\n",
      "  Created wheel for keras-pos-embd: filename=keras_pos_embd-0.11.0-cp36-none-any.whl size=7553 sha256=432cfdd61967ef66fd13593da4b20a8caa56f35f926fee23eb4acfcd6a72b819\n",
      "  Stored in directory: /root/.cache/pip/wheels/5b/a1/a0/ce6b1d49ba1a9a76f592e70cf297b05c96bc9f418146761032\n",
      "  Building wheel for keras-multi-head (setup.py) ... \u001b[?25l\u001b[?25hdone\n",
      "  Created wheel for keras-multi-head: filename=keras_multi_head-0.22.0-cp36-none-any.whl size=15371 sha256=881806f18d522cbfcc30ad8c2613906f903a08374fd96287751f4b03d50fc6eb\n",
      "  Stored in directory: /root/.cache/pip/wheels/bb/df/3f/81b36f41b66e6a9cd69224c70a737de2bb6b2f7feb3272c25e\n",
      "  Building wheel for keras-layer-normalization (setup.py) ... \u001b[?25l\u001b[?25hdone\n",
      "  Created wheel for keras-layer-normalization: filename=keras_layer_normalization-0.14.0-cp36-none-any.whl size=5268 sha256=eee7fd8f582e443b9624327c1161a087a6ca424dfa79ee9425b811cc61b8c63b\n",
      "  Stored in directory: /root/.cache/pip/wheels/54/80/22/a638a7d406fd155e507aa33d703e3fa2612b9eb7bb4f4fe667\n",
      "  Building wheel for keras-position-wise-feed-forward (setup.py) ... \u001b[?25l\u001b[?25hdone\n",
      "  Created wheel for keras-position-wise-feed-forward: filename=keras_position_wise_feed_forward-0.6.0-cp36-none-any.whl size=5624 sha256=b0fd776a217762d922d9e728398de02678ccf9e7618130aa6d3df9ab4a7ccad6\n",
      "  Stored in directory: /root/.cache/pip/wheels/39/e2/e2/3514fef126a00574b13bc0b9e23891800158df3a3c19c96e3b\n",
      "  Building wheel for keras-embed-sim (setup.py) ... \u001b[?25l\u001b[?25hdone\n",
      "  Created wheel for keras-embed-sim: filename=keras_embed_sim-0.7.0-cp36-none-any.whl size=4676 sha256=2c60e41aa04c9f405aabf56497c048f70443dc05f38c628b73e7d9509d594376\n",
      "  Stored in directory: /root/.cache/pip/wheels/d1/bc/b1/b0c45cee4ca2e6c86586b0218ffafe7f0703c6d07fdf049866\n",
      "  Building wheel for keras-self-attention (setup.py) ... \u001b[?25l\u001b[?25hdone\n",
      "  Created wheel for keras-self-attention: filename=keras_self_attention-0.41.0-cp36-none-any.whl size=17290 sha256=05af8d4ccb661d9e34c0267e91f10f6c1d86cccbe6e457c1bea4285876498a27\n",
      "  Stored in directory: /root/.cache/pip/wheels/cc/dc/17/84258b27a04cd38ac91998abe148203720ca696186635db694\n",
      "Successfully built ktrain keras-bert langdetect networkx seqeval keras-transformer keras-pos-embd keras-multi-head keras-layer-normalization keras-position-wise-feed-forward keras-embed-sim keras-self-attention\n",
      "\u001b[31mERROR: albumentations 0.1.12 has requirement imgaug<0.2.7,>=0.2.5, but you'll have imgaug 0.2.9 which is incompatible.\u001b[0m\n",
      "Installing collected packages: keras-pos-embd, keras-self-attention, keras-multi-head, keras-layer-normalization, keras-position-wise-feed-forward, keras-embed-sim, keras-transformer, keras-bert, langdetect, cchardet, networkx, seqeval, ktrain\n",
      "  Found existing installation: networkx 2.4\n",
      "    Uninstalling networkx-2.4:\n",
      "      Successfully uninstalled networkx-2.4\n",
      "Successfully installed cchardet-2.1.5 keras-bert-0.80.0 keras-embed-sim-0.7.0 keras-layer-normalization-0.14.0 keras-multi-head-0.22.0 keras-pos-embd-0.11.0 keras-position-wise-feed-forward-0.6.0 keras-self-attention-0.41.0 keras-transformer-0.31.0 ktrain-0.7.2 langdetect-1.0.7 networkx-2.3 seqeval-0.0.12\n",
      "[nltk_data] Downloading package stopwords to /root/nltk_data...\n",
      "[nltk_data]   Unzipping corpora/stopwords.zip.\n"
     ]
    },
    {
     "name": "stderr",
     "output_type": "stream",
     "text": [
      "Using TensorFlow backend.\n"
     ]
    },
    {
     "data": {
      "text/html": [
       "<p style=\"color: red;\">\n",
       "The default version of TensorFlow in Colab will soon switch to TensorFlow 2.x.<br>\n",
       "We recommend you <a href=\"https://www.tensorflow.org/guide/migrate\" target=\"_blank\">upgrade</a> now \n",
       "or ensure your notebook will continue to use TensorFlow 1.x via the <code>%tensorflow_version 1.x</code> magic:\n",
       "<a href=\"https://colab.research.google.com/notebooks/tensorflow_version.ipynb\" target=\"_blank\">more info</a>.</p>\n"
      ],
      "text/plain": [
       "<IPython.core.display.HTML object>"
      ]
     },
     "metadata": {
      "tags": []
     },
     "output_type": "display_data"
    }
   ],
   "source": [
    "%reload_ext autoreload\n",
    "%autoreload 2\n",
    "%matplotlib inline\n",
    "!pip3 install ktrain\n",
    "from glob import glob\n",
    "import numpy as np\n",
    "import os,re\n",
    "from pandas import DataFrame\n",
    "import pandas as pd\n",
    "import string\n",
    "import matplotlib.pyplot as plt\n",
    "\n",
    "from sklearn import decomposition, ensemble\n",
    "from sklearn.model_selection import train_test_split\n",
    "from sklearn import model_selection, preprocessing, linear_model, naive_bayes, metrics\n",
    "from sklearn.feature_extraction.text import CountVectorizer\n",
    "from sklearn.feature_extraction.text import TfidfVectorizer\n",
    "from sklearn.linear_model import LogisticRegression\n",
    "from sklearn.feature_extraction.text import CountVectorizer\n",
    "from sklearn.feature_extraction.stop_words import ENGLISH_STOP_WORDS\n",
    "import spacy\n",
    "from spacy.lang.en import English\n",
    "import nltk\n",
    "nltk.download('stopwords')\n",
    "from nltk.corpus import stopwords\n",
    "import spacy, logging, warnings\n",
    "import gensim\n",
    "from gensim import corpora\n",
    "\n",
    "\n",
    "from IPython.display import HTML\n",
    "#Keras\n",
    "from keras.utils import to_categorical\n",
    "from keras.preprocessing.text import Tokenizer\n",
    "from keras.preprocessing.sequence import pad_sequences\n",
    "from keras.layers import Dense , Input , LSTM , Embedding, Dropout , Activation, GRU, Flatten\n",
    "from keras.layers import Bidirectional, GlobalMaxPool1D\n",
    "from keras.models import Model, Sequential\n",
    "from keras.layers import Conv1D, MaxPooling1D, Embedding, Flatten, LSTM\n",
    "from keras.models import Model\n",
    "from keras.initializers import Constant\n",
    "#from keras import initializers, regularizers, optimizers, layer\n",
    "from tensorflow import keras\n",
    "from tensorflow.keras import layers\n",
    "import tensorflow as tf\n",
    "import tensorflow_hub as hub\n",
    "\n",
    "from tqdm import tqdm_notebook\n",
    "from tensorflow.keras import backend as K\n",
    "import tensorflow as tf\n",
    "\n",
    "from bs4 import BeautifulSoup\n",
    "\n",
    "import warnings\n",
    "warnings.filterwarnings('ignore')"
   ]
  },
  {
   "cell_type": "markdown",
   "metadata": {
    "colab_type": "text",
    "id": "5LH8kdXoflDc"
   },
   "source": [
    "## Download dataset and load it in colab"
   ]
  },
  {
   "cell_type": "code",
   "execution_count": 2,
   "metadata": {
    "colab": {
     "base_uri": "https://localhost:8080/",
     "height": 34
    },
    "colab_type": "code",
    "id": "C107idDpKJd5",
    "outputId": "364ae5c7-2913-4002-d326-4c94c2b731bc"
   },
   "outputs": [
    {
     "name": "stdout",
     "output_type": "stream",
     "text": [
      "sample_data\n"
     ]
    }
   ],
   "source": [
    "# see what is in my directory\n",
    "\n",
    "!ls"
   ]
  },
  {
   "cell_type": "code",
   "execution_count": 3,
   "metadata": {
    "colab": {
     "base_uri": "https://localhost:8080/",
     "height": 204
    },
    "colab_type": "code",
    "id": "y8NOVc92KO66",
    "outputId": "a5453b2a-f8b4-48f8-d679-901f04e77499"
   },
   "outputs": [
    {
     "name": "stdout",
     "output_type": "stream",
     "text": [
      "--2019-12-21 22:07:55--  https://ai.stanford.edu/~amaas/data/sentiment/aclImdb_v1.tar.gz\n",
      "Resolving ai.stanford.edu (ai.stanford.edu)... 171.64.68.10\n",
      "Connecting to ai.stanford.edu (ai.stanford.edu)|171.64.68.10|:443... connected.\n",
      "HTTP request sent, awaiting response... 200 OK\n",
      "Length: 84125825 (80M) [application/x-gzip]\n",
      "Saving to: ‘aclImdb_v1.tar.gz’\n",
      "\n",
      "aclImdb_v1.tar.gz   100%[===================>]  80.23M  67.9MB/s    in 1.2s    \n",
      "\n",
      "2019-12-21 22:07:57 (67.9 MB/s) - ‘aclImdb_v1.tar.gz’ saved [84125825/84125825]\n",
      "\n"
     ]
    }
   ],
   "source": [
    "# download the data via given link\n",
    "! wget https://ai.stanford.edu/~amaas/data/sentiment/aclImdb_v1.tar.gz "
   ]
  },
  {
   "cell_type": "code",
   "execution_count": null,
   "metadata": {
    "colab": {
     "base_uri": "https://localhost:8080/",
     "height": 1000
    },
    "colab_type": "code",
    "id": "9G6Z_kwwKcxq",
    "outputId": "94b5c193-be7c-4a5b-e71e-b6662793c8e2"
   },
   "outputs": [],
   "source": [
    "#unzip the file\n",
    "!gunzip aclImdb_v1.tar.gz\n",
    "!tar -xvf aclImdb_v1.tar"
   ]
  },
  {
   "cell_type": "code",
   "execution_count": 0,
   "metadata": {
    "colab": {},
    "colab_type": "code",
    "id": "sz3jCiCoKmZ1"
   },
   "outputs": [],
   "source": [
    "MYPATH= 'aclImdb/' #set up the path.\n",
    "Class = ['neg','pos'] #create a list which will be used later for the retrival of all data"
   ]
  },
  {
   "cell_type": "code",
   "execution_count": 6,
   "metadata": {
    "colab": {
     "base_uri": "https://localhost:8080/",
     "height": 34
    },
    "colab_type": "code",
    "id": "hUno0u6lLEZW",
    "outputId": "1f948c5d-a30f-4212-d818-23dc983de03b"
   },
   "outputs": [
    {
     "name": "stdout",
     "output_type": "stream",
     "text": [
      "aclImdb  aclImdb_v1.tar  sample_data\n"
     ]
    }
   ],
   "source": [
    "# check if the file has been successfully downloaded and unzipped\n",
    "!ls"
   ]
  },
  {
   "cell_type": "code",
   "execution_count": 7,
   "metadata": {
    "colab": {
     "base_uri": "https://localhost:8080/",
     "height": 34
    },
    "colab_type": "code",
    "id": "STIBycEULIdD",
    "outputId": "af36509c-57e2-4fe2-e7a0-ec1a6ef26852"
   },
   "outputs": [
    {
     "name": "stdout",
     "output_type": "stream",
     "text": [
      "imdbEr.txt  imdb.vocab\tREADME\ttest  train\n"
     ]
    }
   ],
   "source": [
    "# show the content of my data folder\n",
    "!ls {MYPATH}"
   ]
  },
  {
   "cell_type": "markdown",
   "metadata": {
    "colab_type": "text",
    "id": "5zMu5hFrfxGg"
   },
   "source": [
    "# EDA (Exploratory Data Analysis)"
   ]
  },
  {
   "cell_type": "code",
   "execution_count": 8,
   "metadata": {
    "colab": {
     "base_uri": "https://localhost:8080/",
     "height": 476
    },
    "colab_type": "code",
    "id": "ZDk0M0_5LK3g",
    "outputId": "1d36c0a0-d586-4de9-e21d-44185f6b9ad9"
   },
   "outputs": [
    {
     "name": "stdout",
     "output_type": "stream",
     "text": [
      "Train folder contains:\n",
      "labeledBow.feat  pos\tunsupBow.feat  urls_pos.txt\n",
      "neg\t\t unsup\turls_neg.txt   urls_unsup.txt\n",
      "\n",
      "Several text files in positive labeled train folder:\n",
      "0_9.txt\n",
      "10000_8.txt\n",
      "10001_10.txt\n",
      "10002_7.txt\n",
      "10003_8.txt\n",
      "10004_8.txt\n",
      "10005_7.txt\n",
      "10006_7.txt\n",
      "10007_7.txt\n",
      "10008_7.txt\n",
      "\n",
      "Several text files in Negative labeled train folder:\n",
      "0_3.txt\n",
      "10000_4.txt\n",
      "10001_4.txt\n",
      "10002_1.txt\n",
      "10003_1.txt\n",
      "10004_3.txt\n",
      "1000_4.txt\n",
      "10005_3.txt\n",
      "10006_4.txt\n",
      "10007_1.txt\n"
     ]
    }
   ],
   "source": [
    "# see what is in the train folder\n",
    "print('Train folder contains:')\n",
    "!ls {MYPATH}train \n",
    "# train folder included both labeled neg and pos texts\n",
    "print('\\nSeveral text files in positive labeled train folder:')\n",
    "!ls {MYPATH}train/pos | head \n",
    "print('\\nSeveral text files in Negative labeled train folder:')\n",
    "!ls {MYPATH}train/neg | head "
   ]
  },
  {
   "cell_type": "code",
   "execution_count": 9,
   "metadata": {
    "colab": {
     "base_uri": "https://localhost:8080/",
     "height": 459
    },
    "colab_type": "code",
    "id": "QxsZJ8TBPE-o",
    "outputId": "571e2da2-d93c-414f-f99b-37b80d2a51bf"
   },
   "outputs": [
    {
     "name": "stdout",
     "output_type": "stream",
     "text": [
      "Test folder contains:\n",
      "labeledBow.feat  neg  pos  urls_neg.txt  urls_pos.txt\n",
      "\n",
      "Several text files in positive labeled test folder:\n",
      "0_10.txt\n",
      "10000_7.txt\n",
      "10001_9.txt\n",
      "10002_8.txt\n",
      "10003_8.txt\n",
      "10004_9.txt\n",
      "10005_8.txt\n",
      "10006_7.txt\n",
      "10007_10.txt\n",
      "10008_8.txt\n",
      "\n",
      "Several text files in Negative labeled test folder:\n",
      "0_2.txt\n",
      "10000_4.txt\n",
      "10001_1.txt\n",
      "10002_3.txt\n",
      "10003_3.txt\n",
      "1000_3.txt\n",
      "10004_2.txt\n",
      "10005_2.txt\n",
      "10006_2.txt\n",
      "10007_4.txt\n"
     ]
    }
   ],
   "source": [
    "# see what is in the test folder\n",
    "print('Test folder contains:')\n",
    "!ls {MYPATH}test \n",
    "# test folder included both labeled neg and pos texts\n",
    "print('\\nSeveral text files in positive labeled test folder:')\n",
    "!ls {MYPATH}test/pos | head \n",
    "print('\\nSeveral text files in Negative labeled test folder:')\n",
    "!ls {MYPATH}test/neg | head "
   ]
  },
  {
   "cell_type": "code",
   "execution_count": 0,
   "metadata": {
    "colab": {},
    "colab_type": "code",
    "id": "ppgyt3dKM798"
   },
   "outputs": [],
   "source": [
    "# define a function to retrieve and load the train and test data from above folders\n",
    "\n",
    "def load_texts_labels_from_folders(path, folders):\n",
    "    texts,labels = [],[]\n",
    "    for idx,label in enumerate(folders):\n",
    "        for fname in glob(os.path.join(path, label, '*.*')):\n",
    "            texts.append(open(fname, 'r').read())\n",
    "            labels.append(idx)\n",
    "    # stored as np.int8 to save space \n",
    "    return texts, np.array(labels).astype(np.int8)\n",
    "\n",
    "# store the loaded data under their respective names\n",
    "x_train_ori,y_train_ori = load_texts_labels_from_folders(f'{MYPATH}train',Class)\n",
    "x_test_ori,y_test_ori = load_texts_labels_from_folders(f'{MYPATH}test',Class)"
   ]
  },
  {
   "cell_type": "code",
   "execution_count": 11,
   "metadata": {
    "colab": {
     "base_uri": "https://localhost:8080/",
     "height": 51
    },
    "colab_type": "code",
    "id": "qdfmJS5kP3Ij",
    "outputId": "20544f54-f6ab-4de2-cd73-87052ffdc30b"
   },
   "outputs": [
    {
     "name": "stdout",
     "output_type": "stream",
     "text": [
      "Number of training:  25000 \n",
      "Number of testing:  25000\n"
     ]
    }
   ],
   "source": [
    "# The data is split evenly with 25k reviews for training data and 25k for testing data.\n",
    "print('Number of training: ', len(x_train_ori),'\\nNumber of testing: ', len(x_test_ori))"
   ]
  },
  {
   "cell_type": "code",
   "execution_count": 12,
   "metadata": {
    "colab": {
     "base_uri": "https://localhost:8080/",
     "height": 51
    },
    "colab_type": "code",
    "id": "iGG2Sht1XTZV",
    "outputId": "8255db2e-773b-4f8a-9ac6-b27f3f62342c"
   },
   "outputs": [
    {
     "name": "stdout",
     "output_type": "stream",
     "text": [
      "Number of positive reviews in training:  12500 \n",
      "Number of positive reviews in testing:  12500\n"
     ]
    }
   ],
   "source": [
    "# each training and testing set has evenly 12.5k positive and 12.5k negative reviews as well.\n",
    "print('Number of positive reviews in training: ', len(y_train_ori[y_train_ori==1]),'\\nNumber of positive reviews in testing: ',len(y_test_ori[y_test_ori==1]))"
   ]
  },
  {
   "cell_type": "code",
   "execution_count": 13,
   "metadata": {
    "colab": {
     "base_uri": "https://localhost:8080/",
     "height": 122
    },
    "colab_type": "code",
    "id": "Xus8y_5YQF63",
    "outputId": "ed1b6d8c-7e42-4987-e9c1-dac4d310175c"
   },
   "outputs": [
    {
     "data": {
      "text/plain": [
       "[\"This is actually a pretty bad film. The ideology is not as perverse as in those films Collins made later. However, my main misgivings about the film are that it is implausible and quite frankly boring for a long time. The whole concept of an ex-SAS man joining terrorists for no particular reason isn't very convincing and you can't help wondering why a group of highly organized terrorists (who later become pretty clueless) fall for it. The film starts with a pretty powerful scene but then meanders for quite a long time building up towards the great finale. Overall, I think Who dares wins could have been an interesting 45 minutes episode of The Professionals but the story doesn't carry a feature film. Although reasonably successful at the time this film initiated the demise of Collins' career who in the eighties mainly made cheap and dubious soldier-of-fortune or army films. Pity, because he actually is quite a versatile actor but at the end of the day Martin Shaw chose his roles more carefully and has a career that's still successful.\",\n",
       " \"Kojak meets the mafia. Telly Savales is one of those guys from the past that seems pretty forgettable. I never thought that his show was all that great. This is his one dimensional characterization of a crime boss, with very predictable results. If you take the car chases and the general rambling out, there isn't much plot development or action. I find mafia movies to be dull because I have no respect or interest in common criminals and their actions. Hollywood, and in this case, the Italian cinema, treat these guys as heroes. I saw the film and in a few days I won't remember much about it. Lots of shooting, innocent bystanders dying, betrayal, and that sick loyalty. The film is photographed pretty well and the acting is decent. But the dubbing is so bad (due to voices that just couldn't come out of those bodies), that I almost started looking for Godzilla approaching the bay.\",\n",
       " 'I must say that I am fairly disappointed by this \"horror\" movie. I did not get scared even once while watching it. It also is not very suspenseful either.... I was able to guess the ending half way through the movie... So.. what\\'s left?<br /><br />\"The Ring\" is a trully scary movie... I wish other movies would stop copying from it (e.g. the trade-mark: long hair). Please give me some originality.<br /><br />Will not recommend this movie.',\n",
       " \"POPEYE AND BIG FOOT **; POPEYE'S ENGINE COMPANY **; GETTING POPEYE'S GOAT **1/2<br /><br />I used to lap these up as a kid but, catching an episode of the series comprising three cartoons back-to-back now i.e. several years later (they preceded the theatrical screening of the pirate yarn RAIDERS OF THE SEVEN SEAS [1953]), I can see how they don't hold up all that well! The character of Popeye isn't exactly sympathetic to begin with, Olive Oyl distinctly overbearing and Bluto's antics failed to elicit much interest either \\x96 in short, the scripts were alarmingly thin, fairly awful and generally unfunny to boot. They're strictly juvenile fare, yet I doubt today's kids would even have the patience to stick with them!; furthermore, the animation style is unattractive.<br /><br />Taking each short per se, I guess they improved from one to the other: after the initial shock, one adapted to its mediocre quality as it were, so that the third cartoon easily results in being the most enjoyable of the lot \\x96 Popeye is entrusted with a mascot army goat whose immense appetite causes him no end of mischief (hardly original, I know, but always an amusing ploy). One interesting element here was that the shorts were bookended with Popeye delivering moralistic bits of wisdom to the kids in the audience.\",\n",
       " \"This is probably the worst movie I have ever seen, (yes it's even worse than Dungeons and Dragons and any film starring Kevin Costner.)<br /><br />Chris Rock looked very uncomfortable throughout this whole film, and his supporting actors didn't even look like they were trying to act. Chris Rock is a wonderful stand-up comedian, but he just can't transfer his talent to this film, which probably only has two strained laughs in the whole picture.<br /><br />If you haven't watched this film yet, avoid it like the plague. Go do something constructive and more interesting like watching the weather channel or watching paint dry on a brick wall.<br /><br />For Chris' efforts I give it a 2/10!<br /><br />\"]"
      ]
     },
     "execution_count": 13,
     "metadata": {
      "tags": []
     },
     "output_type": "execute_result"
    }
   ],
   "source": [
    "# see the first 5 reviews from training dataset and their corresponded labels\n",
    "x_train_ori[:5]"
   ]
  },
  {
   "cell_type": "code",
   "execution_count": 14,
   "metadata": {
    "colab": {
     "base_uri": "https://localhost:8080/",
     "height": 34
    },
    "colab_type": "code",
    "id": "lHcO5XumSqU5",
    "outputId": "cdbbdbfc-523d-4e23-9fa3-f7414a400c89"
   },
   "outputs": [
    {
     "data": {
      "text/plain": [
       "array([0, 0, 0, 0, 0], dtype=int8)"
      ]
     },
     "execution_count": 14,
     "metadata": {
      "tags": []
     },
     "output_type": "execute_result"
    }
   ],
   "source": [
    "y_train_ori[:5]\n",
    "# according to given information of the dataset: \n",
    "#0 represents negative review, 1 represents postive. \n",
    "#This means that the above 5 reviews are all being labled as negative."
   ]
  },
  {
   "cell_type": "code",
   "execution_count": 15,
   "metadata": {
    "colab": {
     "base_uri": "https://localhost:8080/",
     "height": 621
    },
    "colab_type": "code",
    "id": "osCR4CohQMBc",
    "outputId": "4c2b2899-0d1f-4d2b-f458-a89226eae96c"
   },
   "outputs": [
    {
     "data": {
      "image/png": "[encoded data removed]",
      "text/plain": [
       "<Figure size 1080x720 with 1 Axes>"
      ]
     },
     "metadata": {
      "tags": []
     },
     "output_type": "display_data"
    }
   ],
   "source": [
    "# plot out the distribution of review's length\n",
    "plt.figure(figsize=(15, 10))\n",
    "plt.hist([len(review) for review in list(x_train_ori)], 50)\n",
    "plt.xlabel('Length of review')\n",
    "plt.ylabel('Number of review')\n",
    "plt.title('Distribution of the length of review')\n",
    "plt.show()"
   ]
  },
  {
   "cell_type": "code",
   "execution_count": 16,
   "metadata": {
    "colab": {
     "base_uri": "https://localhost:8080/",
     "height": 640
    },
    "colab_type": "code",
    "id": "BnTBFHEkQ-Hz",
    "outputId": "54810fd9-9f8a-47f0-ae4d-f648c7d077c8"
   },
   "outputs": [
    {
     "data": {
      "image/png": "[encoded data removed]",
      "text/plain": [
       "<Figure size 1080x720 with 1 Axes>"
      ]
     },
     "metadata": {
      "tags": []
     },
     "output_type": "display_data"
    }
   ],
   "source": [
    "# plot out the most frequent's words shown in the reviews.\n",
    "\n",
    "wd = {\n",
    "    'ngram_range' : (1, 1),\n",
    "    'dtype' : 'int32',\n",
    "    'strip_accents' : 'unicode',\n",
    "    'decode_error' : 'replace',\n",
    "    'analyzer' : 'word'\n",
    "}\n",
    "\n",
    "vectorizer = CountVectorizer(**wd)\n",
    "vect_texts = vectorizer.fit_transform(list(x_train_ori))\n",
    "all_ngrams = vectorizer.get_feature_names()\n",
    "num_ngrams = min(50, len(all_ngrams))\n",
    "all_counts = vect_texts.sum(axis=0).tolist()[0]\n",
    "\n",
    "all_ngrams, all_counts = zip(*[(n, c) for c, n in sorted(zip(all_counts, all_ngrams), reverse=True)])\n",
    "ngrams = all_ngrams[:num_ngrams]\n",
    "counts = all_counts[:num_ngrams]\n",
    "\n",
    "idx = np.arange(num_ngrams)\n",
    "\n",
    "plt.figure(figsize=(15, 10))\n",
    "plt.bar(idx, counts, width=0.8)\n",
    "plt.xlabel('N-grams')\n",
    "plt.ylabel('Frequencies')\n",
    "plt.title('Frequency distribution of n-grams')\n",
    "plt.xticks(idx, ngrams, rotation=45)\n",
    "plt.show()"
   ]
  },
  {
   "cell_type": "markdown",
   "metadata": {
    "colab_type": "text",
    "id": "Ib-PfcPuidgZ"
   },
   "source": [
    "According to the result above, it's quite obvious that those frequent words (eg: the, and , of...) are \"stop words\" and do not provide much information and insights for our task. Therefore, we must clean and do preprocessing of the data before sending it into the model."
   ]
  },
  {
   "cell_type": "markdown",
   "metadata": {
    "colab_type": "text",
    "id": "VR4NA3KwjQNM"
   },
   "source": [
    "# Data preprocessing"
   ]
  },
  {
   "cell_type": "markdown",
   "metadata": {
    "colab_type": "text",
    "id": "NlmAKlwLu6T0"
   },
   "source": [
    "First of all, convert our data into pandas dataframes:"
   ]
  },
  {
   "cell_type": "code",
   "execution_count": 0,
   "metadata": {
    "colab": {},
    "colab_type": "code",
    "id": "FJUmMISbgrPI"
   },
   "outputs": [],
   "source": [
    "# Create train dataframe \n",
    "train_df = pd.DataFrame()\n",
    "train_df['text'] = x_train_ori\n",
    "train_df['label'] = y_train_ori\n",
    "\n",
    "# Create test dataframe \n",
    "test_df = pd.DataFrame()\n",
    "test_df['text'] = x_test_ori\n",
    "test_df['label'] = y_test_ori\n",
    "\n",
    "train_df = train_df.reset_index(drop=True)\n",
    "test_df = test_df.reset_index(drop=True)"
   ]
  },
  {
   "cell_type": "code",
   "execution_count": 0,
   "metadata": {
    "colab": {},
    "colab_type": "code",
    "id": "kNfy8gPudDNS"
   },
   "outputs": [],
   "source": [
    "train_df.text = train_df.text.apply(lambda r: BeautifulSoup(r, 'html.parser').get_text())\n",
    "test_df.text = test_df.text.apply(lambda r: BeautifulSoup(r, 'html.parser').get_text())"
   ]
  },
  {
   "cell_type": "code",
   "execution_count": 19,
   "metadata": {
    "colab": {
     "base_uri": "https://localhost:8080/",
     "height": 419
    },
    "colab_type": "code",
    "id": "54CdyGBjjmQC",
    "outputId": "a3be81cb-c42a-4087-f5bb-7e4d75f6184e"
   },
   "outputs": [
    {
     "data": {
      "text/html": [
       "<div>\n",
       "<style scoped>\n",
       "    .dataframe tbody tr th:only-of-type {\n",
       "        vertical-align: middle;\n",
       "    }\n",
       "\n",
       "    .dataframe tbody tr th {\n",
       "        vertical-align: top;\n",
       "    }\n",
       "\n",
       "    .dataframe thead th {\n",
       "        text-align: right;\n",
       "    }\n",
       "</style>\n",
       "<table border=\"1\" class=\"dataframe\">\n",
       "  <thead>\n",
       "    <tr style=\"text-align: right;\">\n",
       "      <th></th>\n",
       "      <th>text</th>\n",
       "      <th>label</th>\n",
       "    </tr>\n",
       "  </thead>\n",
       "  <tbody>\n",
       "    <tr>\n",
       "      <th>0</th>\n",
       "      <td>This is actually a pretty bad film. The ideolo...</td>\n",
       "      <td>0</td>\n",
       "    </tr>\n",
       "    <tr>\n",
       "      <th>1</th>\n",
       "      <td>Kojak meets the mafia. Telly Savales is one of...</td>\n",
       "      <td>0</td>\n",
       "    </tr>\n",
       "    <tr>\n",
       "      <th>2</th>\n",
       "      <td>I must say that I am fairly disappointed by th...</td>\n",
       "      <td>0</td>\n",
       "    </tr>\n",
       "    <tr>\n",
       "      <th>3</th>\n",
       "      <td>POPEYE AND BIG FOOT **; POPEYE'S ENGINE COMPAN...</td>\n",
       "      <td>0</td>\n",
       "    </tr>\n",
       "    <tr>\n",
       "      <th>4</th>\n",
       "      <td>This is probably the worst movie I have ever s...</td>\n",
       "      <td>0</td>\n",
       "    </tr>\n",
       "    <tr>\n",
       "      <th>...</th>\n",
       "      <td>...</td>\n",
       "      <td>...</td>\n",
       "    </tr>\n",
       "    <tr>\n",
       "      <th>24995</th>\n",
       "      <td>It's very hard to say just what was going on w...</td>\n",
       "      <td>1</td>\n",
       "    </tr>\n",
       "    <tr>\n",
       "      <th>24996</th>\n",
       "      <td>Michelle Rodrigez was made for this movie, whe...</td>\n",
       "      <td>1</td>\n",
       "    </tr>\n",
       "    <tr>\n",
       "      <th>24997</th>\n",
       "      <td>Released two years before I was born, this Osc...</td>\n",
       "      <td>1</td>\n",
       "    </tr>\n",
       "    <tr>\n",
       "      <th>24998</th>\n",
       "      <td>A glacier slide inside a cavernous ice mountai...</td>\n",
       "      <td>1</td>\n",
       "    </tr>\n",
       "    <tr>\n",
       "      <th>24999</th>\n",
       "      <td>I don't have much to add to my summary, this f...</td>\n",
       "      <td>1</td>\n",
       "    </tr>\n",
       "  </tbody>\n",
       "</table>\n",
       "<p>25000 rows × 2 columns</p>\n",
       "</div>"
      ],
      "text/plain": [
       "                                                    text  label\n",
       "0      This is actually a pretty bad film. The ideolo...      0\n",
       "1      Kojak meets the mafia. Telly Savales is one of...      0\n",
       "2      I must say that I am fairly disappointed by th...      0\n",
       "3      POPEYE AND BIG FOOT **; POPEYE'S ENGINE COMPAN...      0\n",
       "4      This is probably the worst movie I have ever s...      0\n",
       "...                                                  ...    ...\n",
       "24995  It's very hard to say just what was going on w...      1\n",
       "24996  Michelle Rodrigez was made for this movie, whe...      1\n",
       "24997  Released two years before I was born, this Osc...      1\n",
       "24998  A glacier slide inside a cavernous ice mountai...      1\n",
       "24999  I don't have much to add to my summary, this f...      1\n",
       "\n",
       "[25000 rows x 2 columns]"
      ]
     },
     "execution_count": 19,
     "metadata": {
      "tags": []
     },
     "output_type": "execute_result"
    }
   ],
   "source": [
    "train_df"
   ]
  },
  {
   "cell_type": "code",
   "execution_count": 20,
   "metadata": {
    "colab": {
     "base_uri": "https://localhost:8080/",
     "height": 419
    },
    "colab_type": "code",
    "id": "jQ9gF_0Vt0b5",
    "outputId": "b204d017-b08a-4274-c32d-4b0c54954035"
   },
   "outputs": [
    {
     "data": {
      "text/html": [
       "<div>\n",
       "<style scoped>\n",
       "    .dataframe tbody tr th:only-of-type {\n",
       "        vertical-align: middle;\n",
       "    }\n",
       "\n",
       "    .dataframe tbody tr th {\n",
       "        vertical-align: top;\n",
       "    }\n",
       "\n",
       "    .dataframe thead th {\n",
       "        text-align: right;\n",
       "    }\n",
       "</style>\n",
       "<table border=\"1\" class=\"dataframe\">\n",
       "  <thead>\n",
       "    <tr style=\"text-align: right;\">\n",
       "      <th></th>\n",
       "      <th>text</th>\n",
       "      <th>label</th>\n",
       "    </tr>\n",
       "  </thead>\n",
       "  <tbody>\n",
       "    <tr>\n",
       "      <th>0</th>\n",
       "      <td>I watched this because of the description and ...</td>\n",
       "      <td>0</td>\n",
       "    </tr>\n",
       "    <tr>\n",
       "      <th>1</th>\n",
       "      <td>Three young movie theater employees are given ...</td>\n",
       "      <td>0</td>\n",
       "    </tr>\n",
       "    <tr>\n",
       "      <th>2</th>\n",
       "      <td>SPOILERSI love movies. I've seen a lot of movi...</td>\n",
       "      <td>0</td>\n",
       "    </tr>\n",
       "    <tr>\n",
       "      <th>3</th>\n",
       "      <td>One of the few reasons to make these pointlss ...</td>\n",
       "      <td>0</td>\n",
       "    </tr>\n",
       "    <tr>\n",
       "      <th>4</th>\n",
       "      <td>This cosy middle class sitcom became the subje...</td>\n",
       "      <td>0</td>\n",
       "    </tr>\n",
       "    <tr>\n",
       "      <th>...</th>\n",
       "      <td>...</td>\n",
       "      <td>...</td>\n",
       "    </tr>\n",
       "    <tr>\n",
       "      <th>24995</th>\n",
       "      <td>This one of those social dramas that WB knew h...</td>\n",
       "      <td>1</td>\n",
       "    </tr>\n",
       "    <tr>\n",
       "      <th>24996</th>\n",
       "      <td>Harry Langdon's \"Saturday Afternoon\" is often ...</td>\n",
       "      <td>1</td>\n",
       "    </tr>\n",
       "    <tr>\n",
       "      <th>24997</th>\n",
       "      <td>Jarl and Moodysson are part of an dying breed ...</td>\n",
       "      <td>1</td>\n",
       "    </tr>\n",
       "    <tr>\n",
       "      <th>24998</th>\n",
       "      <td>I thought this was a great action flick. A ver...</td>\n",
       "      <td>1</td>\n",
       "    </tr>\n",
       "    <tr>\n",
       "      <th>24999</th>\n",
       "      <td>I think this TV film was first aired the same ...</td>\n",
       "      <td>1</td>\n",
       "    </tr>\n",
       "  </tbody>\n",
       "</table>\n",
       "<p>25000 rows × 2 columns</p>\n",
       "</div>"
      ],
      "text/plain": [
       "                                                    text  label\n",
       "0      I watched this because of the description and ...      0\n",
       "1      Three young movie theater employees are given ...      0\n",
       "2      SPOILERSI love movies. I've seen a lot of movi...      0\n",
       "3      One of the few reasons to make these pointlss ...      0\n",
       "4      This cosy middle class sitcom became the subje...      0\n",
       "...                                                  ...    ...\n",
       "24995  This one of those social dramas that WB knew h...      1\n",
       "24996  Harry Langdon's \"Saturday Afternoon\" is often ...      1\n",
       "24997  Jarl and Moodysson are part of an dying breed ...      1\n",
       "24998  I thought this was a great action flick. A ver...      1\n",
       "24999  I think this TV film was first aired the same ...      1\n",
       "\n",
       "[25000 rows x 2 columns]"
      ]
     },
     "execution_count": 20,
     "metadata": {
      "tags": []
     },
     "output_type": "execute_result"
    }
   ],
   "source": [
    "test_df"
   ]
  },
  {
   "cell_type": "markdown",
   "metadata": {
    "colab_type": "text",
    "id": "8k3r5auFwOqi"
   },
   "source": [
    "### First processing round: \n",
    "We are going to tokenize and filter out the followings: \n",
    "\n",
    "1.non-alphabetic \n",
    "2.tokens that are too short\n",
    "\n",
    "\n",
    "and lastly make them all to be lowercase."
   ]
  },
  {
   "cell_type": "code",
   "execution_count": 0,
   "metadata": {
    "colab": {},
    "colab_type": "code",
    "id": "N0gxVVEcwXUY"
   },
   "outputs": [],
   "source": [
    "#load spacy English  package \n",
    "spacy.load('en')\n",
    "nlp = spacy.load(\"en_core_web_sm\", disable=['parser','ner'])\n"
   ]
  },
  {
   "cell_type": "code",
   "execution_count": 0,
   "metadata": {
    "colab": {},
    "colab_type": "code",
    "id": "gRGS8-zmxebv"
   },
   "outputs": [],
   "source": [
    "MIN_WORD_LEN = 3 #the minimal of word len is 3, if ones less than 3, it will be filtered out.\n",
    "def text_to_words(text):\n",
    "\n",
    "    doc = nlp(text)\n",
    "    filtered = [token.orth_ for token in doc if token.is_alpha and not token.is_punct and not token.like_num and len(token)>=MIN_WORD_LEN] \n",
    "    text =  [w.lower() for w in filtered]\n",
    "    #text = list(set(text))\n",
    "\n",
    "    return text"
   ]
  },
  {
   "cell_type": "code",
   "execution_count": 23,
   "metadata": {
    "colab": {
     "base_uri": "https://localhost:8080/",
     "height": 54
    },
    "colab_type": "code",
    "id": "fRaEzER0z5Cu",
    "outputId": "6e06b411-56e3-43e4-a6b5-986ff7626606"
   },
   "outputs": [
    {
     "name": "stdout",
     "output_type": "stream",
     "text": [
      "[['this', 'actually', 'pretty', 'bad', 'film', 'the', 'ideology', 'not', 'perverse', 'those', 'films', 'collins', 'made', 'later', 'however', 'main', 'misgivings', 'about', 'the', 'film', 'are', 'that', 'implausible', 'and', 'quite', 'frankly', 'boring', 'for', 'long', 'time', 'the', 'whole', 'concept', 'sas', 'man', 'joining', 'terrorists', 'for', 'particular', 'reason', 'very', 'convincing', 'and', 'you', 'help', 'wondering', 'why', 'group', 'highly', 'organized', 'terrorists', 'who', 'later', 'become', 'pretty', 'clueless', 'fall', 'for', 'the', 'film', 'starts', 'with', 'pretty', 'powerful', 'scene', 'but', 'then', 'meanders', 'for', 'quite', 'long', 'time', 'building', 'towards', 'the', 'great', 'finale', 'overall', 'think', 'who', 'dares', 'wins', 'could', 'have', 'been', 'interesting', 'minutes', 'episode', 'the', 'professionals', 'but', 'the', 'story', 'does', 'carry', 'feature', 'film', 'although', 'reasonably', 'successful', 'the', 'time', 'this', 'film', 'initiated', 'the', 'demise', 'collins', 'career', 'who', 'the', 'eighties', 'mainly', 'made', 'cheap', 'and', 'dubious', 'soldier', 'fortune', 'army', 'films', 'pity', 'because', 'actually', 'quite', 'versatile', 'actor', 'but', 'the', 'end', 'the', 'day', 'martin', 'shaw', 'chose', 'his', 'roles', 'more', 'carefully', 'and', 'has', 'career', 'that', 'still', 'successful']]\n"
     ]
    }
   ],
   "source": [
    "# Apply the first processing round to training data\n",
    "train_texts = train_df.text.values.tolist()\n",
    "train_texts_words = [text_to_words(text) for text in train_texts]\n",
    "print(train_texts_words[:1])"
   ]
  },
  {
   "cell_type": "code",
   "execution_count": 24,
   "metadata": {
    "colab": {
     "base_uri": "https://localhost:8080/",
     "height": 54
    },
    "colab_type": "code",
    "id": "zty1eNIC4Tn8",
    "outputId": "8ccf07cd-5c54-4bca-86c8-57048d0a66c2"
   },
   "outputs": [
    {
     "name": "stdout",
     "output_type": "stream",
     "text": [
      "[['watched', 'this', 'because', 'the', 'description', 'and', 'cover', 'art', 'and', 'yet', 'again', 'was', 'deceived', 'getting', 'sick', 'all', 'these', 'new', 'stupid', 'straight', 'dvd', 'horror', 'movies', 'once', 'blue', 'moon', 'will', 'started', 'out', 'with', 'confusing', 'scene', 'and', 'then', 'jumped', 'years', 'and', 'showed', 'couple', 'night', 'during', 'thunderstorm', 'which', 'was', 'because', 'like', 'storms', 'and', 'set', 'nice', 'mood', 'then', 'turned', 'into', 'cool', 'road', 'trip', 'where', 'they', 'ended', 'diner', 'encountering', 'bizarre', 'people', 'the', 'rest', 'got', 'weird', 'and', 'then', 'got', 'confusing', 'did', 'watch', 'til', 'the', 'end', 'but', 'was', 'even', 'more', 'confused', 'when', 'ended', 'badly', 'had', 'higher', 'hopes', 'for', 'this', 'movie', 'but', 'was', 'more', 'like', 'science', 'fiction', 'then', 'horror', 'and', 'something', 'that', 'should', 'have', 'been', 'made', 'for']]\n"
     ]
    }
   ],
   "source": [
    "# Apply the first processing round to test data\n",
    "test_texts = test_df.text.values.tolist()\n",
    "test_texts_words = [text_to_words(text) for text in test_texts]\n",
    "print(test_texts_words[:1])"
   ]
  },
  {
   "cell_type": "code",
   "execution_count": 25,
   "metadata": {
    "colab": {
     "base_uri": "https://localhost:8080/",
     "height": 51
    },
    "colab_type": "code",
    "id": "70uv4uA09kV5",
    "outputId": "f9738e97-0aec-4d62-a585-12ad4a23b86e"
   },
   "outputs": [
    {
     "name": "stdout",
     "output_type": "stream",
     "text": [
      "CPU times: user 1min 48s, sys: 451 ms, total: 1min 49s\n",
      "Wall time: 1min 49s\n"
     ]
    }
   ],
   "source": [
    "%%time\n",
    "# Build the bigram and trigram models for training data and testing data\n",
    "# The minimum occurency of a bigram phrase should be 5\n",
    "# Both the bigram and trigram phrases should have the threshold 100\n",
    "train_bigram_phrases = gensim.models.Phrases(train_texts_words, min_count = 5, threshold=100) \n",
    "train_trigram_phrases = gensim.models.Phrases(train_bigram_phrases[train_texts_words], threshold=100) \n",
    "test_bigram_phrases = gensim.models.Phrases(test_texts_words, min_count = 5, threshold=100) \n",
    "test_trigram_phrases = gensim.models.Phrases(test_bigram_phrases[test_texts_words], threshold=100)\n",
    "\n",
    "# This is a kind of technical pruning only\n",
    "train_bigram_phraser = gensim.models.phrases.Phraser(train_bigram_phrases)\n",
    "train_trigram_phraser = gensim.models.phrases.Phraser(train_trigram_phrases)\n",
    "test_bigram_phraser = gensim.models.phrases.Phraser(test_bigram_phrases)\n",
    "test_trigram_phraser = gensim.models.phrases.Phraser(test_trigram_phrases)\n",
    "\n"
   ]
  },
  {
   "cell_type": "code",
   "execution_count": 0,
   "metadata": {
    "colab": {},
    "colab_type": "code",
    "id": "S6ut8lGN-IxI"
   },
   "outputs": [],
   "source": [
    "# Apply the n-gram models to the data\n",
    "train_texts_words = [train_trigram_phraser[train_bigram_phraser[words]] for words in train_texts_words]\n",
    "test_texts_words = [test_trigram_phraser[test_bigram_phraser[words]] for words in test_texts_words]"
   ]
  },
  {
   "cell_type": "markdown",
   "metadata": {
    "colab_type": "text",
    "id": "zKqJC2PwACj0"
   },
   "source": [
    "### Second (final) round of filtering on the basis of stopwords and POS-tags, and lemmatize all tokens."
   ]
  },
  {
   "cell_type": "code",
   "execution_count": 27,
   "metadata": {
    "colab": {
     "base_uri": "https://localhost:8080/",
     "height": 88
    },
    "colab_type": "code",
    "id": "oj6XB-YJ_wLu",
    "outputId": "ee1f8847-c29a-48e7-e38e-a72fdca25053"
   },
   "outputs": [
    {
     "name": "stdout",
     "output_type": "stream",
     "text": [
      "actually pretty bad film ideology perverse film collin later main misgiving film implausible frankly bore long time concept sas man join terrorist particular reason convincing help wonder group highly organize terrorist later pretty clueless fall film start pretty powerful scene meander long time building great finale overall think dare win interesting minute episode professional story carry feature film reasonably successful time film initiate demise collin career eighty mainly cheap dubious soldier fortune army film pity actually versatile actor end day martin shaw choose role carefully career successful\n",
      "CPU times: user 2min 35s, sys: 1.5 s, total: 2min 36s\n",
      "Wall time: 2min 36s\n"
     ]
    }
   ],
   "source": [
    "%%time\n",
    "# Now we use spacy to do filtering based on stopwords, POS-tags and lemmatize for train data\n",
    "\n",
    "train_filtered = []\n",
    "\n",
    "for words in train_texts_words:\n",
    "    doc = spacy.tokens.Doc(nlp.vocab, words=words)\n",
    "    tagged = nlp.get_pipe(\"tagger\")(doc)\n",
    "\n",
    "    #keep only the lemma of tokens which are non stopwords and are either:\n",
    "    #'NOUN', 'ADJ', 'VERB' or 'ADV\n",
    "    lemmas = [token.lemma_ for token in tagged if not token.is_stop and (token.pos_ == \"NOUN\" or token.pos_ == \"VERB\" or token.pos_ == \"ADJ\" or token.pos_ == \"ADV\")] # you can do  this with a list comprehension or a for cycle, up to you\n",
    "    lemmas = ' '.join(lemmas[:])\n",
    "    train_filtered.append(lemmas)\n",
    "\n",
    "#train_filtered = ' '.join(train_filtered[:])\n",
    "print(train_filtered[0])"
   ]
  },
  {
   "cell_type": "code",
   "execution_count": 28,
   "metadata": {
    "colab": {
     "base_uri": "https://localhost:8080/",
     "height": 54
    },
    "colab_type": "code",
    "id": "fmsCm-hdA-Bs",
    "outputId": "b131d198-a5fb-4616-cf21-ba85161ca82a"
   },
   "outputs": [
    {
     "name": "stdout",
     "output_type": "stream",
     "text": [
      "watch description cover art deceive get sick new stupid straight dvd horror movie blue moon start confusing scene jump year show couple night thunderstorm storm set nice mood turn cool road_trip end din encounter bizarre people rest get weird get confuse watch end confused end badly high hope movie science_fiction horror\n"
     ]
    }
   ],
   "source": [
    "# similarly, do the filtering for test data\n",
    "\n",
    "test_filtered = []\n",
    "\n",
    "for words in test_texts_words:\n",
    "    doc = spacy.tokens.Doc(nlp.vocab, words=words)\n",
    "    tagged = nlp.get_pipe(\"tagger\")(doc)\n",
    "\n",
    "    #keep only the lemma of tokens which are non stopwords and are either:\n",
    "    #'NOUN', 'ADJ', 'VERB' or 'ADV\n",
    "    lemmas = [token.lemma_ for token in tagged if not token.is_stop and (token.pos_ == \"NOUN\" or token.pos_ == \"VERB\" or token.pos_ == \"ADJ\" or token.pos_ == \"ADV\")] # you can do  this with a list comprehension or a for cycle, up to you\n",
    "    lemmas = ' '.join(lemmas[:])\n",
    "    test_filtered.append(lemmas)\n",
    "\n",
    "#test_filtered = ' '.join(test_filtered[:])\n",
    "print(test_filtered[0])"
   ]
  },
  {
   "cell_type": "code",
   "execution_count": 0,
   "metadata": {
    "colab": {},
    "colab_type": "code",
    "id": "F_PXxv9LDwR4"
   },
   "outputs": [],
   "source": [
    "# create train/test 's \n",
    "# and train/test 's y \n",
    "y_train = train_df['label'].tolist()\n",
    "x_train = train_filtered\n",
    "\n",
    "y_test = test_df['label'].tolist()\n",
    "x_test = test_filtered"
   ]
  },
  {
   "cell_type": "markdown",
   "metadata": {
    "colab_type": "text",
    "id": "_XdULi5VGZSq"
   },
   "source": [
    "Data preprocessing is done at this stage.\n",
    "Now we will build up a classic statistic model with TF-IDF, that will be served as a baseline model for further comparison."
   ]
  },
  {
   "cell_type": "markdown",
   "metadata": {
    "colab_type": "text",
    "id": "9iZtTUQfvmpj"
   },
   "source": [
    "# 1. TFIDF + classical statistical models (random forest) - Baseline Model"
   ]
  },
  {
   "cell_type": "markdown",
   "metadata": {
    "colab_type": "text",
    "id": "ooNfZAodoWbp"
   },
   "source": [
    "## Feature extraction \n",
    "\n",
    "In order to extract features, we need to convert sentences to numerical vectors so that it can be analyzable for machine. There are various ways to extract features from the text. \n",
    "\n",
    "The most famous ones are simple Bag of Words and TF-IDF.\n",
    "\n",
    "## Motivation and advantage of TFIDF:\n",
    "In this task we will be using TF-IDF and discard Bag of words as BoW assigns equal value to the words, irrespective of their importance. On the other hand, in TF-IDF the words that are more common in one sentence and less common in other sentences should be assigned high weights, giving them more classifying power. Therefore, TFIDF could be considered as a resolved or advanced model in regards to the issue of simple BoW."
   ]
  },
  {
   "cell_type": "markdown",
   "metadata": {
    "colab_type": "text",
    "id": "aCvu5XG9HbdW"
   },
   "source": [
    "## Brief explaination of the concept behind TFIDF  \n",
    "Word will be converted represented as a single scaler number based on TF-IDF scores and is logarithmically scaled inverse fraction of the documents that contain the word.\n",
    "\n",
    "IF: term frequency that gives the count of word t in document d.\n",
    "\n",
    "IDF: gives information about how the word is common or rare across all document.\n",
    "\n",
    "The vector generated using TF-IDF is sparse. It gives zero TF-IDF score for the words which are not present in the document."
   ]
  },
  {
   "cell_type": "code",
   "execution_count": 0,
   "metadata": {
    "colab": {},
    "colab_type": "code",
    "id": "_BscfSgNGTnl"
   },
   "outputs": [],
   "source": [
    "# Count Vectors as features\n",
    "# create a count vectorizer object \n",
    "count_vect = CountVectorizer(analyzer='word', token_pattern=r'\\w{1,}')\n",
    "count_vect.fit(x_train+x_test)\n",
    "\n",
    "# transform the training and test data using count vectorizer object\n",
    "xtrain_count =  count_vect.transform(x_train)\n",
    "xtest_count =  count_vect.transform(x_test)"
   ]
  },
  {
   "cell_type": "markdown",
   "metadata": {
    "colab_type": "text",
    "id": "tS7fDnBIhQbY"
   },
   "source": [
    "TF-IDF can be implemented via different levels, which for example, following two levels are implemented for comparison:\n",
    "\n",
    "a. word level\n",
    "\n",
    "b. n-gram level (range 2,3): n represents how many words are sent in the model as a 'set' for analysis."
   ]
  },
  {
   "cell_type": "code",
   "execution_count": 0,
   "metadata": {
    "colab": {},
    "colab_type": "code",
    "id": "6-nyuk55Hnp4"
   },
   "outputs": [],
   "source": [
    "# word level \n",
    "# max_features parameter represents the most occurring 5000 words as features for training our classifier.\n",
    "tfidf_vect = TfidfVectorizer(analyzer='word', token_pattern=r'\\w{1,}', max_features=5000)\n",
    "tfidf_vect.fit(x_train+x_test)\n",
    "xtrain_tfidf =  tfidf_vect.transform(x_train)\n",
    "xtest_tfidf =  tfidf_vect.transform(x_test)\n"
   ]
  },
  {
   "cell_type": "code",
   "execution_count": 0,
   "metadata": {
    "colab": {},
    "colab_type": "code",
    "id": "yPRNt-CCicYA"
   },
   "outputs": [],
   "source": [
    "# ngram level\n",
    "tfidf_vect_ngram = TfidfVectorizer(analyzer='word', token_pattern=r'\\w{1,}', ngram_range=(2,3), max_features=5000)\n",
    "tfidf_vect_ngram.fit(x_train+x_test)\n",
    "xtrain_tfidf_ngram =  tfidf_vect_ngram.transform(x_train)\n",
    "xtest_tfidf_ngram =  tfidf_vect_ngram.transform(x_test)"
   ]
  },
  {
   "cell_type": "markdown",
   "metadata": {
    "colab_type": "text",
    "id": "FNjQsD-Vo4by"
   },
   "source": [
    "### Model building"
   ]
  },
  {
   "cell_type": "code",
   "execution_count": 0,
   "metadata": {
    "colab": {},
    "colab_type": "code",
    "id": "6XcKpUkOih9d"
   },
   "outputs": [],
   "source": [
    "# Build a function that can train and apply to different models\n",
    "\n",
    "def train_model(classifier, feature_vector_train, label, feature_vector_valid, is_neural_net=False):\n",
    "    # fit the training dataset on the classifier\n",
    "    classifier.fit(feature_vector_train, label)\n",
    "    \n",
    "    # predict the labels on validation dataset\n",
    "    predictions = classifier.predict(feature_vector_valid)\n",
    "    \n",
    "    return metrics.accuracy_score(predictions, y_test)"
   ]
  },
  {
   "cell_type": "markdown",
   "metadata": {
    "colab_type": "text",
    "id": "MD2_-IatkdcB"
   },
   "source": [
    "## TF-IDF with Random forest\n",
    "### Motivation of using Random forest:\n",
    "Random forest is consisted of multiple decision trees. Decision tree is only dealing with one single tree classifier, so it may lead to the problem of noise or ourliers. As Decision treee is not representative for the true data distribution, it is likely to affect the result of the overall classification model. Nevertheless, Random Forest resolved this issue by combining and taking multiples trees into account so that is very much robust to noise and outliers because of randomness it provides.\n",
    "\n",
    "We will consider this model as our baseline model and the further advanced models must surpass it."
   ]
  },
  {
   "cell_type": "code",
   "execution_count": 34,
   "metadata": {
    "colab": {
     "base_uri": "https://localhost:8080/",
     "height": 68
    },
    "colab_type": "code",
    "id": "d5c3XpR2jYKM",
    "outputId": "16be4e91-c6d0-458b-9c27-22573c9407bc"
   },
   "outputs": [
    {
     "name": "stdout",
     "output_type": "stream",
     "text": [
      "RF, Count Vectors:  0.76076\n",
      "RF, WordLevel TF-IDF:  0.77596\n",
      "RF, N-Gram Vectors:  0.72404\n"
     ]
    }
   ],
   "source": [
    "# RF on simple BoW\n",
    "accuracy = train_model(ensemble.RandomForestClassifier(n_estimators=10), xtrain_count, y_train, xtest_count)\n",
    "print(\"RF, Count Vectors: \", accuracy)\n",
    "\n",
    "# RF on Word Level TF IDF Vectors\n",
    "accuracy = train_model(ensemble.RandomForestClassifier(n_estimators=10), xtrain_tfidf, y_train, xtest_tfidf)\n",
    "print(\"RF, WordLevel TF-IDF: \", accuracy)\n",
    "\n",
    "# RF on Ngram Level TF IDF Vectors\n",
    "accuracy = train_model(ensemble.RandomForestClassifier(n_estimators=10), xtrain_tfidf_ngram, y_train, xtest_tfidf_ngram)\n",
    "print(\"RF, N-Gram Vectors: \", accuracy)"
   ]
  },
  {
   "cell_type": "markdown",
   "metadata": {
    "colab_type": "text",
    "id": "zgC4LqYo2hlW"
   },
   "source": [
    "Word level has a better accuracy among is due to:\n",
    "\n",
    "simple count vector(BoW) - too simple, values are assigned equally to each word.\n",
    "\n",
    "n-gramm - as it do not aim to understand the context/meaning of words, it doesn't help us to gain more information."
   ]
  },
  {
   "cell_type": "markdown",
   "metadata": {
    "colab_type": "text",
    "id": "earOqZaRzcUP"
   },
   "source": [
    "## Drawback and takeaway from this model:\n",
    "It only takes words frequency into account but neglect the context of words in regards to their meanings or order. The words will not much informative if we only implemented this model.\n",
    "\n",
    "This is also the reason why this should be used as a baseline model ( accuracy of 0.77596) as it is way too simple when it comes to complex language analysis."
   ]
  },
  {
   "cell_type": "markdown",
   "metadata": {
    "colab_type": "text",
    "id": "ku1LR4apoCBa"
   },
   "source": [
    "# 2. LSTM classification model\n",
    "LSTM stands for Long Short Term Memory, which is one example of recurrent neural networks. The RNN model can take the context of words into account and output the possible classification or words based on the calculated possiblility given the input words or sequences."
   ]
  },
  {
   "cell_type": "markdown",
   "metadata": {
    "colab_type": "text",
    "id": "MfbbA3qx9IUM"
   },
   "source": [
    "## Motivation and advantage of LSTM model:\n",
    "\n",
    "We do not use traditional recurrent neural network as it may encounter the issues of:\n",
    "\n",
    "1.Vanishing gradients where the gradient signal gets so small that learning either becomes very slow or stops working altogether. \n",
    "\n",
    "2.Exploding gradients where is so large that it can cause learning to diverge. \n",
    "\n",
    "As a result, the magnitude of weights in the transition matrix can have a strong impact on the learning process and it can also make more difficult the task of learning long-term dependencies in our langauge model.\n",
    "\n",
    "-\n",
    "\n",
    "LSTM could resolve or improve traditional rnn by introducing a new structure called a memory cell, which consisted of an input gate, a neuron with a self-recurrent connection (a connection to itself), a forget gate and an output gate."
   ]
  },
  {
   "cell_type": "markdown",
   "metadata": {
    "colab_type": "text",
    "id": "oG1Q4HJYBfKn"
   },
   "source": [
    "### Tokenization\n",
    "First of all, we tokenized words in each sequence so that each word can be a token and later be sent into the model."
   ]
  },
  {
   "cell_type": "code",
   "execution_count": 35,
   "metadata": {
    "colab": {
     "base_uri": "https://localhost:8080/",
     "height": 51
    },
    "colab_type": "code",
    "id": "GlJSH97sxYt4",
    "outputId": "9c8ef8c4-c930-43a4-f87a-a282abac6572"
   },
   "outputs": [
    {
     "name": "stdout",
     "output_type": "stream",
     "text": [
      "Length of 1st training example:  87\n",
      "Maximum number of words in the training reviews:  1233\n"
     ]
    }
   ],
   "source": [
    "MAX_NUM_WORDS = 1000000 #my own call for assigning the parameter\n",
    "tokenizer = Tokenizer(num_words=MAX_NUM_WORDS)\n",
    "tokenizer.fit_on_texts(x_train)\n",
    "\n",
    "#split again for validation set from testing data (as suggested)\n",
    "x_test_lstm, x_val, y_test_lstm, y_val = train_test_split(x_test, y_test, test_size=0.25, random_state=33)\n",
    "sequences_train = tokenizer.texts_to_sequences(x_train)\n",
    "\n",
    "\n",
    "print(\"Length of 1st training example: \", len(sequences_train[0]))\n",
    "print(\"Maximum number of words in the training reviews: \", max([len(i) for i in sequences_train]))"
   ]
  },
  {
   "cell_type": "code",
   "execution_count": 36,
   "metadata": {
    "colab": {
     "base_uri": "https://localhost:8080/",
     "height": 51
    },
    "colab_type": "code",
    "id": "iOIxNgC41Kc6",
    "outputId": "19b52d90-99fd-4ced-a729-70a2d6e97c1f"
   },
   "outputs": [
    {
     "name": "stdout",
     "output_type": "stream",
     "text": [
      "Length of 1st testing example:  197\n",
      "Maximum number of words in the reviews:  915\n"
     ]
    }
   ],
   "source": [
    "sequences_test = tokenizer.texts_to_sequences(x_test_lstm)\n",
    "print(\"Length of 1st testing example: \", len(sequences_test[0]))\n",
    "print(\"Maximum number of words in the reviews: \", max([len(i) for i in sequences_test]))\n"
   ]
  },
  {
   "cell_type": "code",
   "execution_count": 37,
   "metadata": {
    "colab": {
     "base_uri": "https://localhost:8080/",
     "height": 51
    },
    "colab_type": "code",
    "id": "7CHpqViVjdgy",
    "outputId": "56543f3e-6f11-46b6-91ec-10ed21d12fa8"
   },
   "outputs": [
    {
     "name": "stdout",
     "output_type": "stream",
     "text": [
      "Length of 1st training example:  53\n",
      "Maximum number of words in the training reviews:  908\n"
     ]
    }
   ],
   "source": [
    "sequences_val = tokenizer.texts_to_sequences(x_val)\n",
    "print(\"Length of 1st training example: \", len(sequences_val[0]))\n",
    "print(\"Maximum number of words in the training reviews: \", max([len(i) for i in sequences_val]))"
   ]
  },
  {
   "cell_type": "code",
   "execution_count": 38,
   "metadata": {
    "colab": {
     "base_uri": "https://localhost:8080/",
     "height": 34
    },
    "colab_type": "code",
    "id": "J4eHa8jCkEhv",
    "outputId": "48ebe1ed-29c4-449a-fdf1-f01d605cfa6d"
   },
   "outputs": [
    {
     "name": "stdout",
     "output_type": "stream",
     "text": [
      "Found 60435 unique tokens.\n"
     ]
    }
   ],
   "source": [
    "word_index = tokenizer.word_index\n",
    "print('Found %s unique tokens.' % len(word_index))"
   ]
  },
  {
   "cell_type": "markdown",
   "metadata": {
    "colab_type": "text",
    "id": "jmNgjjBRCtaP"
   },
   "source": [
    "### Padding\n",
    "padding is needed is because each sequence/review has different length. However, machine learning algorithms require all the training example with a fixed length.\n",
    "\n",
    "As a result, we need to make all length identical by padding the short ones to the predifined values."
   ]
  },
  {
   "cell_type": "code",
   "execution_count": 39,
   "metadata": {
    "colab": {
     "base_uri": "https://localhost:8080/",
     "height": 119
    },
    "colab_type": "code",
    "id": "4Id0JR5UyPDO",
    "outputId": "2afc1af1-e7a7-4af9-f424-950452146531"
   },
   "outputs": [
    {
     "name": "stdout",
     "output_type": "stream",
     "text": [
      "Length of 1st training example:  256\n",
      "Length of 5th training example:  256\n",
      "Length of 1th testing example:  256\n",
      "Length of 5th training example:  256\n",
      "Length of 1st validation example:  256\n",
      "Length of 5th validation example:  256\n"
     ]
    }
   ],
   "source": [
    "MAX_SEQUENCE_LENGTH = 256 #assign manually the length we wanted to pad to\n",
    " \n",
    "x_train_seq = pad_sequences(sequences_train, maxlen=MAX_SEQUENCE_LENGTH)\n",
    "x_val_seq = pad_sequences(sequences_val, maxlen=MAX_SEQUENCE_LENGTH)\n",
    "x_test_seq = pad_sequences(sequences_test, maxlen=MAX_SEQUENCE_LENGTH)\n",
    "\n",
    "print(\"Length of 1st training example: \", len(x_train_seq[0]))\n",
    "print(\"Length of 5th training example: \",  len(x_train_seq[5]))\n",
    "print(\"Length of 1th testing example: \",  len(x_test_seq[0]))\n",
    "print(\"Length of 5th training example: \",  len(x_test_seq[5]))\n",
    "print(\"Length of 1st validation example: \", len(x_val_seq[0]))\n",
    "print(\"Length of 5th validation example: \",  len(x_val_seq[5]))\n",
    "\n",
    "y_train_labels = to_categorical(np.asarray(y_train))\n",
    "y_val_labels = to_categorical(np.asarray(y_val))\n",
    "y_test_labels = to_categorical(np.asarray(y_test_lstm))\n"
   ]
  },
  {
   "cell_type": "code",
   "execution_count": 0,
   "metadata": {
    "colab": {},
    "colab_type": "code",
    "id": "6BfaknSpxBfA"
   },
   "outputs": [],
   "source": [
    "# set up parameters\n",
    "EMBEDDING_DIM = 100\n",
    "lstm_size = 64"
   ]
  },
  {
   "cell_type": "code",
   "execution_count": 41,
   "metadata": {
    "colab": {
     "base_uri": "https://localhost:8080/",
     "height": 139
    },
    "colab_type": "code",
    "id": "sC2bUsg6Q3a3",
    "outputId": "f1484048-9c28-4c21-9061-5a7a11944ec8"
   },
   "outputs": [
    {
     "name": "stdout",
     "output_type": "stream",
     "text": [
      "WARNING:tensorflow:From /usr/local/lib/python3.6/dist-packages/keras/backend/tensorflow_backend.py:107: The name tf.reset_default_graph is deprecated. Please use tf.compat.v1.reset_default_graph instead.\n",
      "\n",
      "WARNING:tensorflow:From /usr/local/lib/python3.6/dist-packages/keras/backend/tensorflow_backend.py:111: The name tf.placeholder_with_default is deprecated. Please use tf.compat.v1.placeholder_with_default instead.\n",
      "\n",
      "WARNING:tensorflow:From /usr/local/lib/python3.6/dist-packages/keras/backend/tensorflow_backend.py:66: The name tf.get_default_graph is deprecated. Please use tf.compat.v1.get_default_graph instead.\n",
      "\n"
     ]
    }
   ],
   "source": [
    "# Initialize session\n",
    "from keras import backend as K\n",
    "K.clear_session()\n",
    "\n",
    "session_conf = tf.ConfigProto(intra_op_parallelism_threads=1, inter_op_parallelism_threads=1)\n",
    "sess = tf.Session(graph=tf.get_default_graph(), config=session_conf)\n",
    "K.set_session(sess)\n"
   ]
  },
  {
   "cell_type": "markdown",
   "metadata": {
    "colab_type": "text",
    "id": "BtEzgR1EEJhQ"
   },
   "source": [
    "### Embedding \n",
    "The Embedding layer is used to create word vectors for incoming words. It sits between the input and the LSTM layer. The output of the Embedding layer is the input to the LSTM layer.)\n",
    "\n",
    "The weights for the Embedding layer can either be initialized with random values.\n"
   ]
  },
  {
   "cell_type": "code",
   "execution_count": 0,
   "metadata": {
    "colab": {},
    "colab_type": "code",
    "id": "tDrJyt1uQ3Wn"
   },
   "outputs": [],
   "source": [
    "# we start off with an efficient embedding layer which maps our vocab indices into embedding_dims dimensions\n",
    "embedding_layer = Embedding(len(word_index)+1,\n",
    "                            EMBEDDING_DIM,\n",
    "                            input_length=MAX_SEQUENCE_LENGTH,\n",
    "                            trainable=False)"
   ]
  },
  {
   "cell_type": "markdown",
   "metadata": {
    "colab_type": "text",
    "id": "Pli1MGlhEnuC"
   },
   "source": [
    "### Model building"
   ]
  },
  {
   "cell_type": "code",
   "execution_count": 43,
   "metadata": {
    "colab": {
     "base_uri": "https://localhost:8080/",
     "height": 190
    },
    "colab_type": "code",
    "id": "ANESnVhFQ3Sn",
    "outputId": "73195cd8-41e6-48c9-f674-236d2497c8c9"
   },
   "outputs": [
    {
     "name": "stdout",
     "output_type": "stream",
     "text": [
      "WARNING:tensorflow:From /usr/local/lib/python3.6/dist-packages/keras/backend/tensorflow_backend.py:541: The name tf.placeholder is deprecated. Please use tf.compat.v1.placeholder instead.\n",
      "\n",
      "WARNING:tensorflow:From /usr/local/lib/python3.6/dist-packages/keras/backend/tensorflow_backend.py:4432: The name tf.random_uniform is deprecated. Please use tf.random.uniform instead.\n",
      "\n",
      "WARNING:tensorflow:From /usr/local/lib/python3.6/dist-packages/keras/backend/tensorflow_backend.py:3733: calling dropout (from tensorflow.python.ops.nn_ops) with keep_prob is deprecated and will be removed in a future version.\n",
      "Instructions for updating:\n",
      "Please use `rate` instead of `keep_prob`. Rate should be set to `rate = 1 - keep_prob`.\n",
      "WARNING:tensorflow:From /usr/local/lib/python3.6/dist-packages/keras/backend/tensorflow_backend.py:4267: The name tf.nn.max_pool is deprecated. Please use tf.nn.max_pool2d instead.\n",
      "\n"
     ]
    }
   ],
   "source": [
    "# the parameters below are self assgined numbers\n",
    "sequence_input = Input(shape=(MAX_SEQUENCE_LENGTH,), dtype='int32')\n",
    "embedded_sequences = embedding_layer(sequence_input)\n",
    "x = Conv1D(128, 5, activation='relu')(embedded_sequences)\n",
    "x = Dropout(0.2)(x)\n",
    "x = MaxPooling1D(5)(x)\n",
    "x = Bidirectional(LSTM(lstm_size, activation='relu'))(x)\n",
    "x = Dropout(0.2)(x)\n",
    "output = Dense(2, activation='softmax')(x) #project onto a single unit output layer, and squash it with a softmax\n",
    "model = Model(inputs=sequence_input, outputs=output)"
   ]
  },
  {
   "cell_type": "code",
   "execution_count": 44,
   "metadata": {
    "colab": {
     "base_uri": "https://localhost:8080/",
     "height": 105
    },
    "colab_type": "code",
    "id": "3Pr-qhc0RjF8",
    "outputId": "d811b3d7-d808-4789-9695-3014935c4eff"
   },
   "outputs": [
    {
     "name": "stdout",
     "output_type": "stream",
     "text": [
      "WARNING:tensorflow:From /usr/local/lib/python3.6/dist-packages/keras/optimizers.py:793: The name tf.train.Optimizer is deprecated. Please use tf.compat.v1.train.Optimizer instead.\n",
      "\n",
      "WARNING:tensorflow:From /usr/local/lib/python3.6/dist-packages/keras/backend/tensorflow_backend.py:3576: The name tf.log is deprecated. Please use tf.math.log instead.\n",
      "\n"
     ]
    }
   ],
   "source": [
    "# Loss \n",
    "loss ='categorical_crossentropy' \n",
    "\n",
    "# Optimizer\n",
    "optimizer = 'adam'\n",
    " \n",
    "# Compilation\n",
    "model.compile(loss= loss, optimizer = optimizer, metrics = ['accuracy'])"
   ]
  },
  {
   "cell_type": "markdown",
   "metadata": {
    "colab_type": "text",
    "id": "mHA-8py3IXLy"
   },
   "source": [
    "### Train Model"
   ]
  },
  {
   "cell_type": "code",
   "execution_count": 45,
   "metadata": {
    "colab": {
     "base_uri": "https://localhost:8080/",
     "height": 479
    },
    "colab_type": "code",
    "id": "E_8jPjI0d3OY",
    "outputId": "03d00601-3f60-409d-a3f6-efed8968d64b"
   },
   "outputs": [
    {
     "name": "stdout",
     "output_type": "stream",
     "text": [
      "WARNING:tensorflow:From /usr/local/lib/python3.6/dist-packages/tensorflow_core/python/ops/math_grad.py:1424: where (from tensorflow.python.ops.array_ops) is deprecated and will be removed in a future version.\n",
      "Instructions for updating:\n",
      "Use tf.where in 2.0, which has the same broadcast rule as np.where\n",
      "WARNING:tensorflow:From /usr/local/lib/python3.6/dist-packages/keras/backend/tensorflow_backend.py:1033: The name tf.assign_add is deprecated. Please use tf.compat.v1.assign_add instead.\n",
      "\n",
      "WARNING:tensorflow:From /usr/local/lib/python3.6/dist-packages/keras/backend/tensorflow_backend.py:1020: The name tf.assign is deprecated. Please use tf.compat.v1.assign instead.\n",
      "\n",
      "Train on 25000 samples, validate on 6250 samples\n",
      "Epoch 1/5\n",
      "WARNING:tensorflow:From /usr/local/lib/python3.6/dist-packages/keras/backend/tensorflow_backend.py:190: The name tf.get_default_session is deprecated. Please use tf.compat.v1.get_default_session instead.\n",
      "\n",
      "WARNING:tensorflow:From /usr/local/lib/python3.6/dist-packages/keras/backend/tensorflow_backend.py:207: The name tf.global_variables is deprecated. Please use tf.compat.v1.global_variables instead.\n",
      "\n",
      "WARNING:tensorflow:From /usr/local/lib/python3.6/dist-packages/keras/backend/tensorflow_backend.py:216: The name tf.is_variable_initialized is deprecated. Please use tf.compat.v1.is_variable_initialized instead.\n",
      "\n",
      "WARNING:tensorflow:From /usr/local/lib/python3.6/dist-packages/keras/backend/tensorflow_backend.py:223: The name tf.variables_initializer is deprecated. Please use tf.compat.v1.variables_initializer instead.\n",
      "\n",
      "25000/25000 [==============================] - 34s 1ms/step - loss: 0.6216 - acc: 0.6434 - val_loss: 0.5680 - val_acc: 0.7206\n",
      "Epoch 2/5\n",
      "25000/25000 [==============================] - 27s 1ms/step - loss: 0.5181 - acc: 0.7461 - val_loss: 0.5146 - val_acc: 0.7416\n",
      "Epoch 3/5\n",
      "25000/25000 [==============================] - 27s 1ms/step - loss: 0.4592 - acc: 0.7852 - val_loss: 0.4467 - val_acc: 0.7952\n",
      "Epoch 4/5\n",
      "25000/25000 [==============================] - 27s 1ms/step - loss: 0.3847 - acc: 0.8329 - val_loss: 0.4205 - val_acc: 0.8114\n",
      "Epoch 5/5\n",
      "25000/25000 [==============================] - 27s 1ms/step - loss: 0.3263 - acc: 0.8646 - val_loss: 0.4521 - val_acc: 0.7930\n"
     ]
    }
   ],
   "source": [
    "lstm=model.fit(x_train_seq, y_train_labels, validation_data=(x_val_seq, y_val_labels), batch_size=128, epochs=5)"
   ]
  },
  {
   "cell_type": "markdown",
   "metadata": {
    "colab_type": "text",
    "id": "RPxVjYcnIR8m"
   },
   "source": [
    "From the training result above we can see that the model is learning and improved over epochs. Nevertheless, the training set is getting more overfit since the validation set is not improving that much comparing to the training set."
   ]
  },
  {
   "cell_type": "code",
   "execution_count": 46,
   "metadata": {
    "colab": {
     "base_uri": "https://localhost:8080/",
     "height": 295
    },
    "colab_type": "code",
    "id": "Ziz7JBfxWDsg",
    "outputId": "b76db678-6eb0-4a18-c697-cb9c154a788a"
   },
   "outputs": [
    {
     "data": {
      "image/png": "[encoded data removed]",
      "text/plain": [
       "<Figure size 432x288 with 1 Axes>"
      ]
     },
     "metadata": {
      "tags": []
     },
     "output_type": "display_data"
    }
   ],
   "source": [
    "# plot the accuracy with respective epoch\n",
    "plt.plot(lstm.history['acc'])\n",
    "plt.plot(lstm.history['val_acc'])\n",
    "plt.title('model accuracy')\n",
    "plt.ylabel('accuracy')\n",
    "plt.xlabel('epoch')\n",
    "plt.legend(['train', 'validation'], loc='upper left')\n",
    "plt.show()"
   ]
  },
  {
   "cell_type": "markdown",
   "metadata": {
    "colab_type": "text",
    "id": "qCVmy5SAIzzo"
   },
   "source": [
    "According to the graph, we can see that training set surpasses testing set in epoch 2 and is extremely overfitting after the point of epoch 3. (validating set is decreasing)"
   ]
  },
  {
   "cell_type": "code",
   "execution_count": 0,
   "metadata": {
    "colab": {},
    "colab_type": "code",
    "id": "rFntHRbRHgG0"
   },
   "outputs": [],
   "source": [
    "pred_lstm = model.predict(x_test_seq)"
   ]
  },
  {
   "cell_type": "code",
   "execution_count": 0,
   "metadata": {
    "colab": {},
    "colab_type": "code",
    "id": "bCg4C5lMHr4p"
   },
   "outputs": [],
   "source": [
    "pred_lstm_labels  = (pred_lstm>0.5) #threshold=0.5"
   ]
  },
  {
   "cell_type": "code",
   "execution_count": 49,
   "metadata": {
    "colab": {
     "base_uri": "https://localhost:8080/",
     "height": 302
    },
    "colab_type": "code",
    "id": "3TUF7-DnH0FK",
    "outputId": "934ac005-b514-4999-d12d-6570fcdfb328"
   },
   "outputs": [
    {
     "data": {
      "text/plain": [
       "Text(15.380000000000003, 0.5, 'predicted label')"
      ]
     },
     "execution_count": 49,
     "metadata": {
      "tags": []
     },
     "output_type": "execute_result"
    },
    {
     "data": {
      "image/png": "[encoded data removed]",
      "text/plain": [
       "<Figure size 288x288 with 1 Axes>"
      ]
     },
     "metadata": {
      "tags": []
     },
     "output_type": "display_data"
    }
   ],
   "source": [
    "# plot the confusion matrix to see how the model performed\n",
    "from sklearn.metrics import classification_report,confusion_matrix\n",
    "import seaborn as sns\n",
    "\n",
    "mat = confusion_matrix(pred_lstm_labels.argmax(axis=1), y_test_labels.argmax(axis=1))\n",
    "plt.figure(figsize=(4, 4))\n",
    "sns.set()\n",
    "sns.heatmap(mat.T, square=True, annot=True, fmt='d', cbar=False,\n",
    "            xticklabels=np.unique(y_test_labels),\n",
    "            yticklabels=np.unique(y_test_labels))\n",
    "plt.xlabel('true label')\n",
    "plt.ylabel('predicted label')"
   ]
  },
  {
   "cell_type": "markdown",
   "metadata": {
    "colab_type": "text",
    "id": "i2WdUB0WJaQz"
   },
   "source": [
    "* True positive: for correctly predicted neg-event values = 8423\n",
    "* False positive: for incorrectly predicted neg-event values = 3002\n",
    "* True negative” for correctly predicted pos-event values = 8423\n",
    "* False negative” for incorrectly predicted pos-event values = 985"
   ]
  },
  {
   "cell_type": "code",
   "execution_count": 50,
   "metadata": {
    "colab": {
     "base_uri": "https://localhost:8080/",
     "height": 187
    },
    "colab_type": "code",
    "id": "euBI-VJMKPpg",
    "outputId": "6d206255-6bf2-42de-91ce-1522d9ac15a6"
   },
   "outputs": [
    {
     "name": "stdout",
     "output_type": "stream",
     "text": [
      "              precision    recall  f1-score   support\n",
      "\n",
      "           0       0.90      0.74      0.81     11425\n",
      "           1       0.68      0.87      0.76      7325\n",
      "\n",
      "   micro avg       0.79      0.79      0.79     18750\n",
      "   macro avg       0.79      0.80      0.78     18750\n",
      "weighted avg       0.81      0.79      0.79     18750\n",
      " samples avg       0.79      0.79      0.79     18750\n",
      "\n"
     ]
    }
   ],
   "source": [
    "#Final result of lstm model\n",
    "print(classification_report(pred_lstm_labels,y_test_labels))"
   ]
  },
  {
   "cell_type": "markdown",
   "metadata": {
    "colab_type": "text",
    "id": "rHeZUj-7GhO8"
   },
   "source": [
    "* Precision=Σ True positive\n",
    "/\n",
    "Σ Predicted condition positive \n",
    "\n",
    " (The one we identified as positive is indeed true positive. This focuses on how precise is our prediction) \n",
    "\n",
    "\n",
    "* Recall=Σ True positive\n",
    "/\n",
    "Σ Condition positiv\n",
    "\n",
    " (The one should be positive and we successfully identified as positive. This focuses on how general the model performs.)\n",
    "\n",
    "We improved our accurancy to nearly 79 percent(F1 score) with random initialized weights for LSTM model."
   ]
  },
  {
   "cell_type": "markdown",
   "metadata": {
    "colab_type": "text",
    "id": "247GAzAMcBN-"
   },
   "source": [
    "# 3. LSTM with pretrained glove vectors\n",
    "As the previous LSTM we used the initialized weights for the Embedding layer with random values, for the third model we would like to rely on pretrained third-party source which initialized the word embeddings with GloVe vectors, hoping to improve the accuracy. (others remain unchanged)\n",
    "\n",
    "Using third party embeddings to build word vectors is as a form of transfer learning, since we would be able to transfer the semantic information between words that was learned during the embedding process and utilize it for our own model.\n",
    "\n",
    "(Transfer learning is a technique that enables the transfer of knowledge learned from one dataset to another)"
   ]
  },
  {
   "cell_type": "code",
   "execution_count": 51,
   "metadata": {
    "colab": {
     "base_uri": "https://localhost:8080/",
     "height": 357
    },
    "colab_type": "code",
    "id": "xFhiHd05WCsq",
    "outputId": "84353c56-40a1-4eb1-c7ab-133d89c2ed48"
   },
   "outputs": [
    {
     "name": "stdout",
     "output_type": "stream",
     "text": [
      "--2019-12-21 22:28:11--  http://nlp.stanford.edu/data/glove.6B.zip\n",
      "Resolving nlp.stanford.edu (nlp.stanford.edu)... 171.64.67.140\n",
      "Connecting to nlp.stanford.edu (nlp.stanford.edu)|171.64.67.140|:80... connected.\n",
      "HTTP request sent, awaiting response... 302 Found\n",
      "Location: https://nlp.stanford.edu/data/glove.6B.zip [following]\n",
      "--2019-12-21 22:28:11--  https://nlp.stanford.edu/data/glove.6B.zip\n",
      "Connecting to nlp.stanford.edu (nlp.stanford.edu)|171.64.67.140|:443... connected.\n",
      "HTTP request sent, awaiting response... 301 Moved Permanently\n",
      "Location: http://downloads.cs.stanford.edu/nlp/data/glove.6B.zip [following]\n",
      "--2019-12-21 22:28:12--  http://downloads.cs.stanford.edu/nlp/data/glove.6B.zip\n",
      "Resolving downloads.cs.stanford.edu (downloads.cs.stanford.edu)... 171.64.64.22\n",
      "Connecting to downloads.cs.stanford.edu (downloads.cs.stanford.edu)|171.64.64.22|:80... connected.\n",
      "HTTP request sent, awaiting response... 200 OK\n",
      "Length: 862182613 (822M) [application/zip]\n",
      "Saving to: ‘glove.6B.zip’\n",
      "\n",
      "glove.6B.zip        100%[===================>] 822.24M  2.05MB/s    in 6m 27s  \n",
      "\n",
      "2019-12-21 22:34:39 (2.12 MB/s) - ‘glove.6B.zip’ saved [862182613/862182613]\n",
      "\n"
     ]
    }
   ],
   "source": [
    "#download zip file via link\n",
    "!wget http://nlp.stanford.edu/data/glove.6B.zip"
   ]
  },
  {
   "cell_type": "code",
   "execution_count": 52,
   "metadata": {
    "colab": {
     "base_uri": "https://localhost:8080/",
     "height": 102
    },
    "colab_type": "code",
    "id": "4LC9sTwHr1x1",
    "outputId": "e8a97733-bfdc-4ca1-abf8-db1ff53c47c6"
   },
   "outputs": [
    {
     "name": "stdout",
     "output_type": "stream",
     "text": [
      "Archive:  glove.6B.zip\n",
      "  inflating: glove.6B.50d.txt        \n",
      "  inflating: glove.6B.100d.txt       \n",
      "  inflating: glove.6B.200d.txt       \n",
      "  inflating: glove.6B.300d.txt       \n"
     ]
    }
   ],
   "source": [
    "!unzip glove*.zip"
   ]
  },
  {
   "cell_type": "code",
   "execution_count": 53,
   "metadata": {
    "colab": {
     "base_uri": "https://localhost:8080/",
     "height": 51
    },
    "colab_type": "code",
    "id": "dr70YP5Ir2Ij",
    "outputId": "0e8d07bb-6d4c-4f93-db44-e1497c6261cc"
   },
   "outputs": [
    {
     "name": "stdout",
     "output_type": "stream",
     "text": [
      "aclImdb\t\tglove.6B.100d.txt  glove.6B.300d.txt  glove.6B.zip\n",
      "aclImdb_v1.tar\tglove.6B.200d.txt  glove.6B.50d.txt   sample_data\n"
     ]
    }
   ],
   "source": [
    "!ls #Glove package has different embedding size of vectors: 100d, 200d, 300d and 50d. (I will use 100d)"
   ]
  },
  {
   "cell_type": "code",
   "execution_count": 54,
   "metadata": {
    "colab": {
     "base_uri": "https://localhost:8080/",
     "height": 51
    },
    "colab_type": "code",
    "id": "A1BfXxmy5IJm",
    "outputId": "d6e0ef2b-cfee-4a15-94f1-b07d47be2fdf"
   },
   "outputs": [
    {
     "name": "stdout",
     "output_type": "stream",
     "text": [
      "Indexing word vectors.\n",
      "Found 400000 word vectors.\n"
     ]
    }
   ],
   "source": [
    "print('Indexing word vectors.')\n",
    "\n",
    "# create a array that can store the glove pretrained vectors\n",
    "embeddings_index = {}\n",
    "f = open('glove.6B.100d.txt', encoding='utf-8')\n",
    "for line in f:\n",
    "    values = line.split()\n",
    "    word = values[0]\n",
    "    coefs = np.asarray(values[1:], dtype='float32')\n",
    "    embeddings_index[word] = coefs\n",
    "f.close()\n",
    "\n",
    "print('Found %s word vectors.' % len(embeddings_index)) \n",
    "#It was trained on a dataset with a vocabulary of 400 thousand words."
   ]
  },
  {
   "cell_type": "code",
   "execution_count": 0,
   "metadata": {
    "colab": {},
    "colab_type": "code",
    "id": "_fOeF_1J_n5I"
   },
   "outputs": [],
   "source": [
    "# Initialize session\n",
    "from keras import backend as K\n",
    "K.clear_session()\n",
    "\n",
    "session_conf = tf.ConfigProto(intra_op_parallelism_threads=1, inter_op_parallelism_threads=1)\n",
    "sess = tf.Session(graph=tf.get_default_graph(), config=session_conf)\n",
    "K.set_session(sess)"
   ]
  },
  {
   "cell_type": "code",
   "execution_count": 0,
   "metadata": {
    "colab": {},
    "colab_type": "code",
    "id": "_K8MFeQI5IRl"
   },
   "outputs": [],
   "source": [
    "embedding_matrix = np.zeros((len(word_index) + 1, EMBEDDING_DIM))\n",
    "for word, i in word_index.items():\n",
    "    embedding_vector = embeddings_index.get(word)\n",
    "    if embedding_vector is not None:\n",
    "        # words not found in embedding index will be all-zeros.\n",
    "        embedding_matrix[i] = embedding_vector"
   ]
  },
  {
   "cell_type": "code",
   "execution_count": 0,
   "metadata": {
    "colab": {},
    "colab_type": "code",
    "id": "N8i308Xg5IFd"
   },
   "outputs": [],
   "source": [
    "embedding_layer = Embedding(len(word_index) + 1,\n",
    "                            EMBEDDING_DIM,\n",
    "                            weights=[embedding_matrix], #add weights from glove\n",
    "                            input_length=MAX_SEQUENCE_LENGTH,\n",
    "                            trainable=False)"
   ]
  },
  {
   "cell_type": "code",
   "execution_count": 0,
   "metadata": {
    "colab": {},
    "colab_type": "code",
    "id": "JbcNc4DR8Pr1"
   },
   "outputs": [],
   "source": [
    "sequence_input = Input(shape=(MAX_SEQUENCE_LENGTH,), dtype='int32')\n",
    "embedded_sequences = embedding_layer(sequence_input)\n",
    "x = Conv1D(128, 5, activation='relu')(embedded_sequences)\n",
    "x = Dropout(0.2)(x)\n",
    "x = MaxPooling1D(5)(x)\n",
    "x = Bidirectional(LSTM(64, activation='relu'))(x)\n",
    "x = Dropout(0.2)(x)\n",
    "output2 = Dense(2, activation='softmax')(x) \n",
    "\n",
    "model2 = Model(sequence_input, output2)"
   ]
  },
  {
   "cell_type": "code",
   "execution_count": 0,
   "metadata": {
    "colab": {},
    "colab_type": "code",
    "id": "KATJREnzorrw"
   },
   "outputs": [],
   "source": [
    "# Loss \n",
    "\n",
    "loss ='categorical_crossentropy' \n",
    "\n",
    "# Optimizer\n",
    "optimizer = 'adam' \n",
    " \n",
    "# Compilation\n",
    "\n",
    "model2.compile(loss= loss, optimizer = optimizer, metrics = ['accuracy'])"
   ]
  },
  {
   "cell_type": "markdown",
   "metadata": {
    "colab_type": "text",
    "id": "N_3kdSgYQ0O-"
   },
   "source": [
    "### Model building (same parameters are used as the previous lstm model)"
   ]
  },
  {
   "cell_type": "code",
   "execution_count": 60,
   "metadata": {
    "colab": {
     "base_uri": "https://localhost:8080/",
     "height": 204
    },
    "colab_type": "code",
    "id": "K2TeQzy7oro6",
    "outputId": "2c3e9b12-b7c3-4f6e-cba1-32b1fd4511c2"
   },
   "outputs": [
    {
     "name": "stdout",
     "output_type": "stream",
     "text": [
      "Train on 25000 samples, validate on 6250 samples\n",
      "Epoch 1/5\n",
      "25000/25000 [==============================] - 29s 1ms/step - loss: 0.5115 - acc: 0.7486 - val_loss: 0.4332 - val_acc: 0.8141\n",
      "Epoch 2/5\n",
      "25000/25000 [==============================] - 27s 1ms/step - loss: 0.3972 - acc: 0.8233 - val_loss: 0.3639 - val_acc: 0.8408\n",
      "Epoch 3/5\n",
      "25000/25000 [==============================] - 27s 1ms/step - loss: 0.3579 - acc: 0.8444 - val_loss: 0.3854 - val_acc: 0.8331\n",
      "Epoch 4/5\n",
      "25000/25000 [==============================] - 27s 1ms/step - loss: 0.3215 - acc: 0.8620 - val_loss: 0.3651 - val_acc: 0.8389\n",
      "Epoch 5/5\n",
      "25000/25000 [==============================] - 28s 1ms/step - loss: 0.2810 - acc: 0.8807 - val_loss: 0.3451 - val_acc: 0.8501\n"
     ]
    }
   ],
   "source": [
    "lstm_glove=model2.fit(x_train_seq, y_train_labels, validation_data=(x_val_seq, y_val_labels), batch_size=128, epochs=5)"
   ]
  },
  {
   "cell_type": "code",
   "execution_count": 61,
   "metadata": {
    "colab": {
     "base_uri": "https://localhost:8080/",
     "height": 301
    },
    "colab_type": "code",
    "id": "Ae2idKKKpUoq",
    "outputId": "41266fc4-13f5-45d4-f1c1-4181c68f60eb"
   },
   "outputs": [
    {
     "data": {
      "image/png": "[encoded data removed]",
      "text/plain": [
       "<Figure size 432x288 with 1 Axes>"
      ]
     },
     "metadata": {
      "tags": []
     },
     "output_type": "display_data"
    }
   ],
   "source": [
    "# summarize history for accuracy\n",
    "plt.plot(lstm_glove.history['acc'])\n",
    "plt.plot(lstm_glove.history['val_acc'])\n",
    "plt.title('model accuracy')\n",
    "plt.ylabel('accuracy')\n",
    "plt.xlabel('epoch')\n",
    "plt.legend(['train', 'test'], loc='upper left')\n",
    "plt.show()"
   ]
  },
  {
   "cell_type": "code",
   "execution_count": 0,
   "metadata": {
    "colab": {},
    "colab_type": "code",
    "id": "xa35NToNERn4"
   },
   "outputs": [],
   "source": [
    "pred_lstm_glove = model2.predict(x_test_seq)"
   ]
  },
  {
   "cell_type": "code",
   "execution_count": 0,
   "metadata": {
    "colab": {},
    "colab_type": "code",
    "id": "SwwecxydEfcK"
   },
   "outputs": [],
   "source": [
    "pred_lstm_glove_labels  = (pred_lstm_glove>0.5) #threshold=0.5"
   ]
  },
  {
   "cell_type": "code",
   "execution_count": 64,
   "metadata": {
    "colab": {
     "base_uri": "https://localhost:8080/",
     "height": 302
    },
    "colab_type": "code",
    "id": "to8VjRmjDMQd",
    "outputId": "6398bc6b-6367-49d8-ceb9-d898274ecbe5"
   },
   "outputs": [
    {
     "data": {
      "text/plain": [
       "Text(15.380000000000003, 0.5, 'predicted label')"
      ]
     },
     "execution_count": 64,
     "metadata": {
      "tags": []
     },
     "output_type": "execute_result"
    },
    {
     "data": {
      "image/png": "[encoded data removed]",
      "text/plain": [
       "<Figure size 288x288 with 1 Axes>"
      ]
     },
     "metadata": {
      "tags": []
     },
     "output_type": "display_data"
    }
   ],
   "source": [
    "mat = confusion_matrix(pred_lstm_glove_labels.argmax(axis=1), y_test_labels.argmax(axis=1))\n",
    "plt.figure(figsize=(4, 4))\n",
    "sns.set()\n",
    "sns.heatmap(mat.T, square=True, annot=True, fmt='d', cbar=False,\n",
    "            xticklabels=np.unique(y_test_labels),\n",
    "            yticklabels=np.unique(y_test_labels))\n",
    "plt.xlabel('true label')\n",
    "plt.ylabel('predicted label')"
   ]
  },
  {
   "cell_type": "code",
   "execution_count": 65,
   "metadata": {
    "colab": {
     "base_uri": "https://localhost:8080/",
     "height": 187
    },
    "colab_type": "code",
    "id": "Bk-evIJ_KFmb",
    "outputId": "3bb4cb04-67b2-40b3-d679-5c5d86b26453"
   },
   "outputs": [
    {
     "name": "stdout",
     "output_type": "stream",
     "text": [
      "              precision    recall  f1-score   support\n",
      "\n",
      "           0       0.80      0.87      0.84      8636\n",
      "           1       0.88      0.82      0.85     10114\n",
      "\n",
      "   micro avg       0.84      0.84      0.84     18750\n",
      "   macro avg       0.84      0.84      0.84     18750\n",
      "weighted avg       0.85      0.84      0.84     18750\n",
      " samples avg       0.84      0.84      0.84     18750\n",
      "\n"
     ]
    }
   ],
   "source": [
    "print(classification_report(pred_lstm_glove_labels,y_test_labels))"
   ]
  },
  {
   "cell_type": "markdown",
   "metadata": {
    "colab_type": "text",
    "id": "W7aMbK_eW2fR"
   },
   "source": [
    "The accurancy has been improved to approx. 85 percent (F1 score) with pretrained glove vectors for LSTM model."
   ]
  },
  {
   "cell_type": "markdown",
   "metadata": {
    "colab_type": "text",
    "id": "U8UHT7TaXO5h"
   },
   "source": [
    "## Drawback and takeaway\n",
    "Although we achieved a better accurancy, pretrained glove vectors with lstm model is not capable of dealing with unknown word. Therefore, a more advanved model will be introduced at the next stage."
   ]
  },
  {
   "cell_type": "markdown",
   "metadata": {
    "colab_type": "text",
    "id": "UfRRB0y8oZZo"
   },
   "source": [
    "# 4. FastText model (with ktrain)\n",
    "\n",
    "## Motivation of fasttext model\n",
    "The fastText library from Facebook has very easy to use scripts to create a text classification model.\n",
    "It supports  not only supervised (classifications) but also unsupervised (embedding) representations of words and sentences.  Given this form of embeddings generation it can generate embeddings for any word that it didn’t even come across in the corpus it was trained on, which can solve the issue from the previous glove model.\n",
    "\n",
    "## Advantage and algorithms behind fasttext model\n",
    "Fasttext is efficient in learning of word representations and text classification and is relatively fast compares to implementing deep leaning model. \n",
    "\n",
    "It can output a vector for a word that is not in the pre-trained model because it constructs the vector for a word from n-gram vectors that constitute a word(the training process trains n-grams, not full word). Therefore, even if a word is not present in corpus, it can still construct a vector for that word by adding the n-grams that constitute a word\n",
    "\n",
    "## ktrain\n",
    "Its main purpose is to hide away much of the syntactic clutter in building default pipelines for preprocessing data, training a predictor as well as it's deployment. It helps to speed up the process."
   ]
  },
  {
   "cell_type": "code",
   "execution_count": 66,
   "metadata": {
    "colab": {
     "base_uri": "https://localhost:8080/",
     "height": 34
    },
    "colab_type": "code",
    "id": "v6rJ9CSrbW3J",
    "outputId": "10cd62d3-45a9-423c-b7da-0b8c451f37e9"
   },
   "outputs": [
    {
     "name": "stdout",
     "output_type": "stream",
     "text": [
      "using Keras version: 2.2.4-tf\n"
     ]
    }
   ],
   "source": [
    "import ktrain\n",
    "from ktrain import text as txt"
   ]
  },
  {
   "cell_type": "code",
   "execution_count": 67,
   "metadata": {
    "colab": {
     "base_uri": "https://localhost:8080/",
     "height": 221
    },
    "colab_type": "code",
    "id": "xpUXyKfKKhiD",
    "outputId": "61cb4c1e-ed7f-4008-c748-86da434801bc"
   },
   "outputs": [
    {
     "name": "stdout",
     "output_type": "stream",
     "text": [
      "detected encoding: utf-8\n",
      "language: en\n",
      "Word Counts: 88582\n",
      "Nrows: 25000\n",
      "25000 train sequences\n",
      "Average train sequence length: 231\n",
      "x_train shape: (25000,256)\n",
      "y_train shape: (25000,2)\n",
      "25000 test sequences\n",
      "Average test sequence length: 224\n",
      "x_test shape: (25000,256)\n",
      "y_test shape: (25000,2)\n"
     ]
    }
   ],
   "source": [
    "# load data(raw) directly from the downloaded folder\n",
    "(x_train_fasttext, y_train_fasttext), (x_test_fasttext, y_test_fasttext), preproc = txt.texts_from_folder('aclImdb',\n",
    "                                                                     maxlen=256, \n",
    "                                                                     max_features=20000,\n",
    "                                                                     ngram_range=1,\n",
    "                                                                     classes=['pos', 'neg'])"
   ]
  },
  {
   "cell_type": "code",
   "execution_count": 68,
   "metadata": {
    "colab": {
     "base_uri": "https://localhost:8080/",
     "height": 102
    },
    "colab_type": "code",
    "id": "WLXC2cNCVP6Y",
    "outputId": "40f9d344-0b47-4edf-9c60-c74a9c706834"
   },
   "outputs": [
    {
     "name": "stdout",
     "output_type": "stream",
     "text": [
      "Is Multi-Label? False\n",
      "compiling word ID features...\n",
      "max_features is 20000\n",
      "maxlen is 256\n",
      "done.\n"
     ]
    }
   ],
   "source": [
    "ft_model= txt.text_classifier('fasttext', (x_train_fasttext, y_train_fasttext))"
   ]
  },
  {
   "cell_type": "code",
   "execution_count": 0,
   "metadata": {
    "colab": {},
    "colab_type": "code",
    "id": "BYPWt95YCxoG"
   },
   "outputs": [],
   "source": [
    "\n",
    "fasttext_learner = ktrain.get_learner(ft_model, train_data=(x_train_fasttext, y_train_fasttext), val_data=(x_test_fasttext, y_test_fasttext))"
   ]
  },
  {
   "cell_type": "code",
   "execution_count": 70,
   "metadata": {
    "colab": {
     "base_uri": "https://localhost:8080/",
     "height": 498
    },
    "colab_type": "code",
    "id": "zuz6Fez2VYo7",
    "outputId": "dc4de293-6d93-49eb-b0ba-9329536f2bd5"
   },
   "outputs": [
    {
     "name": "stdout",
     "output_type": "stream",
     "text": [
      "simulating training for different learning rates... this may take a few moments...\n",
      "Train on 25000 samples\n",
      "Epoch 1/1024\n",
      "25000/25000 [==============================] - 5s 194us/sample - loss: 0.9179 - acc: 0.5038\n",
      "Epoch 2/1024\n",
      "25000/25000 [==============================] - 5s 181us/sample - loss: 0.7014 - acc: 0.5899\n",
      "Epoch 3/1024\n",
      " 8992/25000 [=========>....................] - ETA: 2s - loss: 0.8440 - acc: 0.5008\n",
      "\n",
      "done.\n",
      "Please invoke the Learner.lr_plot() method to visually inspect the loss plot to help identify the maximal learning rate associated with falling loss.\n"
     ]
    },
    {
     "data": {
      "image/png": "[encoded data removed]",
      "text/plain": [
       "<Figure size 432x288 with 1 Axes>"
      ]
     },
     "metadata": {
      "tags": []
     },
     "output_type": "display_data"
    }
   ],
   "source": [
    "#instantiate a Learner object and call the lr_find and lr_plot methods to help identify a good learning rate.\n",
    "fasttext_learner.lr_find()\n",
    "fasttext_learner.lr_plot()"
   ]
  },
  {
   "cell_type": "code",
   "execution_count": 71,
   "metadata": {
    "colab": {
     "base_uri": "https://localhost:8080/",
     "height": 170
    },
    "colab_type": "code",
    "id": "8yVBX4IqHTjL",
    "outputId": "09f1e329-7eec-47b0-b055-1d5669613ba0"
   },
   "outputs": [
    {
     "name": "stdout",
     "output_type": "stream",
     "text": [
      "\n",
      "\n",
      "begin training using triangular learning rate policy with max lr of 0.005...\n",
      "Train on 25000 samples, validate on 25000 samples\n",
      "Epoch 1/2\n",
      "25000/25000 [==============================] - 7s 281us/sample - loss: 0.5962 - acc: 0.6888 - val_loss: 0.3952 - val_acc: 0.8316\n",
      "Epoch 2/2\n",
      "25000/25000 [==============================] - 7s 270us/sample - loss: 0.4247 - acc: 0.8107 - val_loss: 0.3473 - val_acc: 0.8508\n"
     ]
    },
    {
     "data": {
      "text/plain": [
       "<tensorflow.python.keras.callbacks.History at 0x7f84b240e860>"
      ]
     },
     "execution_count": 71,
     "metadata": {
      "tags": []
     },
     "output_type": "execute_result"
    }
   ],
   "source": [
    "# Train the model using the found parameters\n",
    "fasttext_learner.autofit(0.005, 2)\n"
   ]
  },
  {
   "cell_type": "markdown",
   "metadata": {
    "colab_type": "text",
    "id": "mbp0foKWtrBq"
   },
   "source": [
    "The training achieved accuracy of 0.8508."
   ]
  },
  {
   "cell_type": "markdown",
   "metadata": {
    "colab_type": "text",
    "id": "tjUOmB_LeJNw"
   },
   "source": [
    "## Drawback and takeaway\n",
    "Its accuracy could be low with small datasets and did not use pre-trained word-embeddings.\n",
    "For further experimentt, I will later use BERT model to see if the accuracy can be improved."
   ]
  },
  {
   "cell_type": "markdown",
   "metadata": {
    "colab_type": "text",
    "id": "_vqMrFsGohdV"
   },
   "source": [
    "# BERT based model (with ktrain)\n",
    "Bert stands for \"Bidirectional Encoder Representations from Transformers\". \n",
    "## Motivation and advantage of Bert model\n",
    "It is another transform learning technique which information learned from one dataset can be transferred to other datasets for specific tasks. In general it can outperform other models and reach a better accuracy with simple implementaion."
   ]
  },
  {
   "cell_type": "code",
   "execution_count": 72,
   "metadata": {
    "colab": {
     "base_uri": "https://localhost:8080/",
     "height": 272
    },
    "colab_type": "code",
    "id": "f-p5GT3iqMgq",
    "outputId": "050e2119-4fc2-4b01-dbf0-f2f23c193524"
   },
   "outputs": [
    {
     "name": "stdout",
     "output_type": "stream",
     "text": [
      "detected encoding: utf-8\n",
      "downloading pretrained BERT model (uncased_L-12_H-768_A-12.zip)...\n",
      "[██████████████████████████████████████████████████]\n",
      "extracting pretrained BERT model...\n",
      "done.\n",
      "\n",
      "cleanup downloaded zip...\n",
      "done.\n",
      "\n",
      "preprocessing train...\n",
      "language: en\n"
     ]
    },
    {
     "data": {
      "text/html": [
       "done."
      ],
      "text/plain": [
       "<IPython.core.display.HTML object>"
      ]
     },
     "metadata": {
      "tags": []
     },
     "output_type": "display_data"
    },
    {
     "name": "stdout",
     "output_type": "stream",
     "text": [
      "preprocessing test...\n",
      "language: en\n"
     ]
    },
    {
     "data": {
      "text/html": [
       "done."
      ],
      "text/plain": [
       "<IPython.core.display.HTML object>"
      ]
     },
     "metadata": {
      "tags": []
     },
     "output_type": "display_data"
    }
   ],
   "source": [
    "# load data(raw) directly from the downloaded folder\n",
    "# BERT can handle a maximum length of 512, but I will use less to reduce memory and improve speed\n",
    "# and also to be consistent to the same max len with above models\n",
    "\n",
    "(x_train_bert, y_train_bert), (x_test_bert, y_test_bert), preproc = txt.texts_from_folder('aclImdb',\n",
    "                                                                     maxlen=MAX_SEQUENCE_LENGTH, \n",
    "                                                                     preprocess_mode='bert',\n",
    "                                                                     classes=['pos', 'neg'])\n",
    "#preproc is the built-in preprocessing part that can be used later in test set\n"
   ]
  },
  {
   "cell_type": "code",
   "execution_count": 73,
   "metadata": {
    "colab": {
     "base_uri": "https://localhost:8080/",
     "height": 68
    },
    "colab_type": "code",
    "id": "Xw84CzYgtQxQ",
    "outputId": "a8580e3d-0b18-4328-a6b0-9e47001d1ec5"
   },
   "outputs": [
    {
     "name": "stdout",
     "output_type": "stream",
     "text": [
      "Is Multi-Label? False\n",
      "maxlen is 256\n",
      "done.\n"
     ]
    }
   ],
   "source": [
    "bert_ktrain = txt.text_classifier('bert', train_data=(x_train_bert, y_train_bert), preproc=preproc)\n",
    "learner = ktrain.get_learner(bert_ktrain, train_data=(x_train_bert, y_train_bert), batch_size=6)\n",
    "#get_learner uses the function in ktrain to load the pretrained BERT model \n",
    "#with a randomly initialized final Dense layer"
   ]
  },
  {
   "cell_type": "markdown",
   "metadata": {
    "colab_type": "text",
    "id": "rgurNA2EeH0J"
   },
   "source": [
    "## Train the model \n",
    "using one of the three learning rates recommended in the BERT paper: \n",
    "5e-5, 3e-5, or 2e-5.\n",
    "\n",
    "For bert model, I used one of the recommended learning rate.\n",
    "Another alternative is to also use the lr.find function(shown in fasttext model)to find out the optimal training parameters. "
   ]
  },
  {
   "cell_type": "code",
   "execution_count": 74,
   "metadata": {
    "colab": {
     "base_uri": "https://localhost:8080/",
     "height": 204
    },
    "colab_type": "code",
    "id": "QyaIMTdKtWqk",
    "outputId": "8e719f49-61e9-4224-ea11-31ffe1d50373"
   },
   "outputs": [
    {
     "name": "stdout",
     "output_type": "stream",
     "text": [
      "\n",
      "\n",
      "begin training using onecycle policy with max lr of 2e-05...\n",
      "Train on 25000 samples\n",
      "Epoch 1/3\n",
      "25000/25000 [==============================] - 919s 37ms/sample - loss: 0.2981 - acc: 0.8698\n",
      "Epoch 2/3\n",
      "25000/25000 [==============================] - 913s 37ms/sample - loss: 0.1905 - acc: 0.9276\n",
      "Epoch 3/3\n",
      "25000/25000 [==============================] - 915s 37ms/sample - loss: 0.0662 - acc: 0.9786\n"
     ]
    },
    {
     "data": {
      "text/plain": [
       "<tensorflow.python.keras.callbacks.History at 0x7f84c9949e48>"
      ]
     },
     "execution_count": 74,
     "metadata": {
      "tags": []
     },
     "output_type": "execute_result"
    }
   ],
   "source": [
    "\n",
    "#learner.lr_find()\n",
    "#learner.lr_plot()\n",
    "\n",
    "learner.fit_onecycle(2e-5, 3)\n",
    "\n",
    "#this function linearly increases the learning rate for the first half of training \n",
    "#and then decreases the learning rate for the latter half."
   ]
  },
  {
   "cell_type": "code",
   "execution_count": 75,
   "metadata": {
    "colab": {
     "base_uri": "https://localhost:8080/",
     "height": 204
    },
    "colab_type": "code",
    "id": "nEopvdmgtRzF",
    "outputId": "b373601c-57f8-4760-f423-99db92700c50"
   },
   "outputs": [
    {
     "name": "stdout",
     "output_type": "stream",
     "text": [
      "              precision    recall  f1-score   support\n",
      "\n",
      "           0       0.93      0.92      0.92     12500\n",
      "           1       0.92      0.93      0.92     12500\n",
      "\n",
      "    accuracy                           0.92     25000\n",
      "   macro avg       0.92      0.92      0.92     25000\n",
      "weighted avg       0.92      0.92      0.92     25000\n",
      "\n"
     ]
    },
    {
     "data": {
      "text/plain": [
       "array([[11462,  1038],\n",
       "       [  905, 11595]])"
      ]
     },
     "execution_count": 75,
     "metadata": {
      "tags": []
     },
     "output_type": "execute_result"
    }
   ],
   "source": [
    "learner.validate(val_data=(x_test_bert, y_test_bert))"
   ]
  },
  {
   "cell_type": "markdown",
   "metadata": {
    "colab_type": "text",
    "id": "OKfFIKH9oeK5"
   },
   "source": [
    "With Bert model, we achieved accuracy over 90% （92%). \n",
    "\n",
    "By looking at the result I would say Bert is performing relatively good in comparision with the previous 4 less handy models."
   ]
  },
  {
   "cell_type": "markdown",
   "metadata": {
    "colab_type": "text",
    "id": "7UGaoKRwrrSb"
   },
   "source": [
    "## Drawback and takeaway\n",
    "Although BERT’s performance is indeed impressive, it is rather time consuming and is comparatively slow in terms of both training and inference. \n",
    "However, in most cases, Bert is a good state of art model that is worth to be implemented when considering its trade-off with its slowness in regards to its performance."
   ]
  },
  {
   "cell_type": "markdown",
   "metadata": {
    "colab_type": "text",
    "id": "z2WGaf-edZTW"
   },
   "source": [
    "# Future improvement\n",
    "1. For this project, we only use BERT-base model but there is another possibility to use BERT-large model which will hopefully perform even better.\n",
    "\n",
    "2. For model 4 and 5, I did not use previous preprocessed data but directly load the train and test data from the folder is because I found out the performances are better if no self-preprocessing is applied.\n",
    "I am not certain why but I assumed that the preprocessing I did is not that helpful when using Fasttext and bert model. Could be that the built in preprocessing in those models are even appropriate than what I did manually.\n",
    "Therefore, for further improvement I would try to find out how may I preprocess the data that will yield better performance than the built in function."
   ]
  },
  {
   "cell_type": "code",
   "execution_count": null,
   "metadata": {},
   "outputs": [],
   "source": []
  }
 ],
 "metadata": {
  "accelerator": "GPU",
  "colab": {
   "collapsed_sections": [],
   "name": "Individual_assignment.ipynb",
   "provenance": []
  },
  "kernelspec": {
   "display_name": "Python 3",
   "language": "python",
   "name": "python3"
  },
  "language_info": {
   "codemirror_mode": {
    "name": "ipython",
    "version": 3
   },
   "file_extension": ".py",
   "mimetype": "text/x-python",
   "name": "python",
   "nbconvert_exporter": "python",
   "pygments_lexer": "ipython3",
   "version": "3.7.6"
  }
 },
 "nbformat": 4,
 "nbformat_minor": 1
}
